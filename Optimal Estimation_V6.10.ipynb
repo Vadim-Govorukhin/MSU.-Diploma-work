{
 "cells": [
  {
   "cell_type": "markdown",
   "metadata": {},
   "source": [
    "# Программная реализация аналитической оценки"
   ]
  },
  {
   "cell_type": "markdown",
   "metadata": {},
   "source": [
    "Подключение сторонних библиотек для моделирования"
   ]
  },
  {
   "cell_type": "code",
   "execution_count": 1,
   "metadata": {
    "ExecuteTime": {
     "end_time": "2020-09-05T18:43:48.331950Z",
     "start_time": "2020-09-05T18:43:40.863565Z"
    }
   },
   "outputs": [],
   "source": [
    "import numpy as np\n",
    "import numpy.random as rand\n",
    "import random # Для генерации одинакового шума\n",
    "import scipy.linalg\n",
    "import scipy as sp\n",
    "from functools import reduce\n",
    "import re\n",
    "\n",
    "# Графический вывод\n",
    "import matplotlib.pyplot as plt\n",
    "plt.style.use(\"seaborn-darkgrid\")\n",
    "%matplotlib inline\n",
    "from matplotlib.animation import FuncAnimation # Создание gif\n",
    "\n",
    "# Интерактив\n",
    "from ipywidgets import *\n",
    "\n",
    "import os"
   ]
  },
  {
   "cell_type": "markdown",
   "metadata": {},
   "source": [
    "## Генерация исследуемой функции"
   ]
  },
  {
   "cell_type": "code",
   "execution_count": 56,
   "metadata": {
    "ExecuteTime": {
     "end_time": "2020-09-05T19:40:11.398487Z",
     "start_time": "2020-09-05T19:39:51.013522Z"
    }
   },
   "outputs": [
    {
     "data": {
      "image/png": "[encoded data removed]",
      "text/plain": [
       "<Figure size 432x288 with 1 Axes>"
      ]
     },
     "metadata": {
      "needs_background": "light"
     },
     "output_type": "display_data"
    }
   ],
   "source": [
    "def get_B(N):\n",
    "    \"\"\"\n",
    "    Функция для получения теплицевой матрицы B для сглаживания шума и \n",
    "    получения исследуемой функции.\n",
    "    Входные параметры:\n",
    "        N - размерность исследуемого сигнала\n",
    "    \"\"\"\n",
    "    temp = np.zeros(N);\n",
    "    b0 = np.arange(int(N/10), 0, -1) if N >= 10 else np.arange(N-2, 0, -1)\n",
    "    temp[0:len(b0)] = b0\n",
    "    B = np.array(scipy.linalg.toeplitz(temp)) \n",
    "    \n",
    "    return B\n",
    "\n",
    "def Xgeneration(N, B, M=1, m=0):\n",
    "    \"\"\"\n",
    "    Функция для генерации случайных векторов\n",
    "    Входные данные:\n",
    "        N - число точек сигнала на отрезке [0,N]\n",
    "        B - теплицева матрица\n",
    "        m - мат. ожидание сигнала (производится z-преобразование, поэтому не используется)\n",
    "        M - Число генерируемых сигналов\n",
    "        \n",
    "    \"\"\"\n",
    "    x = np.zeros((N,M))   # Создаем M сигналов\n",
    "    \n",
    "    # Генерируем белый шум\n",
    "    mu = np.random.normal(0, 1, (N,M))\n",
    "    # Применяем z-оценку (или нормализацию) к шуму\n",
    "    mu = mu - np.mean(mu)\n",
    "    # Получаем случайный сигнал с ковариациооной матрицей F\n",
    "    x = B @ mu\n",
    "    # Применяем z-оценку (или нормализацию) к сигналу\n",
    "    x = x - np.mean(x) \n",
    "    \n",
    "    # x = x - np.mean(x,axis=0) # Правильное приведение всех мат ожиданий к нулю рушит калибровку\n",
    "    \n",
    "    if M == 1: x = x[:,0] # Если это обычное измерение, то убираем одну размерность\n",
    "        \n",
    "    # Дисперсионная матрица для x\n",
    "    F = B @ B.transpose()\n",
    "    x0 = np.zeros(N) \n",
    "    x0[0:N-1] = x.mean(); \n",
    "    return [x, F, np.array(x0)]\n",
    "\n",
    "# Генерируем исходный сигнал:\n",
    "N = 100;  # Размерность неизвестного сигнала х\n",
    "x, F, x0 = Xgeneration(N,get_B(N),1) \n",
    "plt.plot(np.arange(N), x, \\\n",
    "                  **{'linewidth' : 2, 'color' : 'blue', 'label' : 'x'});\n",
    "#plt.savefig('signal.pdf')"
   ]
  },
  {
   "cell_type": "markdown",
   "metadata": {},
   "source": [
    "## Эволюция сигнала"
   ]
  },
  {
   "cell_type": "code",
   "execution_count": 6,
   "metadata": {
    "ExecuteTime": {
     "end_time": "2020-09-05T18:44:12.050962Z",
     "start_time": "2020-09-05T18:44:12.004071Z"
    }
   },
   "outputs": [],
   "source": [
    "class Evolution:\n",
    "    \n",
    "    def __init__(self, x, transfer_evolution, \n",
    "                 conductivity_evolution, t0, T, J):\n",
    "        self.transfer_evolution = transfer_evolution\n",
    "        self.conductivity_evolution = conductivity_evolution\n",
    "        \n",
    "        if self.transfer_evolution:\n",
    "            # Затухание происходит до значения мат ожидания\n",
    "            self.transfer = ThermalTransfer(x, np.zeros(len(x)) + np.mean(x))  \n",
    "            self.transfer.set_time_nodes(t0, T, J)\n",
    "            self.transfer.signal_evolution()\n",
    "\n",
    "        if self.conductivity_evolution:\n",
    "            condact_koeff = 0.5\n",
    "            #condact_koeff = 3 ##### Баг ли?\n",
    "            j_l, j_r = 0, 99\n",
    "            self.conduct = ThermalConductivity(condact_koeff, j_l, j_r)\n",
    "            self.conduct.set_time_nodes(t0, T, J)\n",
    "            self.conduct.signal_evolution(x)\n",
    "\n",
    "    def set_time_nodes(self, t0, T, J):\n",
    "        if J > 1:\n",
    "            tau = (T - t0)/(J-1) # Временной шаг\n",
    "        else:\n",
    "            tau = 2*T\n",
    "        self.t = np.arange(t0, T + tau/10, tau) # Временная сетка        \n",
    "        \n",
    "    def plot(self, x, J, N):\n",
    "        if self.transfer_evolution or self.conductivity_evolution:\n",
    "            for j in range(J):\n",
    "                D_cond, D_tran = self.D_matrix(j, N)\n",
    "                plt.plot(np.arange(N), D_cond @ D_tran @ x, \\\n",
    "                              **{'linewidth' : 2, 'color' : 'blue', 'label' : 'x'});\n",
    "            \n",
    "    def D_matrix(self, j, N):\n",
    "        D = np.eye(N)\n",
    "        \n",
    "        D_cond = np.eye(N)\n",
    "        D_tran = np.eye(N)\n",
    "        if self.conductivity_evolution:\n",
    "            D_cond = self.conduct.thermal_matrix(self.conduct.t[j], N)\n",
    "        if self.transfer_evolution:\n",
    "            D_tran = (np.eye(N)*self.transfer.weights[j])\n",
    "        return D_cond, D_tran"
   ]
  },
  {
   "cell_type": "code",
   "execution_count": 7,
   "metadata": {
    "ExecuteTime": {
     "end_time": "2020-09-05T18:44:12.191590Z",
     "start_time": "2020-09-05T18:44:12.144698Z"
    }
   },
   "outputs": [],
   "source": [
    "class ThermalTransfer(Evolution):\n",
    "    \"\"\"Теплообмен со средой\"\"\"\n",
    "    \n",
    "    def __init__(self, x_init, x_final):\n",
    "        self.x_init = x_init\n",
    "        self.x_final = x_final\n",
    "        \n",
    "    def evolution_law(self, t, k=1):\n",
    "        \"\"\"Возвращает сигнал в момент времени t,\n",
    "        эволюция котрого произошла по закону Ньютона\n",
    "        \"\"\"\n",
    "        return self.x_final + np.exp(-k*t)*(self.x_init - self.x_final)\n",
    "    \n",
    "    \n",
    "    def signal_evolution(self):\n",
    "        \"\"\" Возвращает np.array, состоящий из сигналов\n",
    "        начиная с момента времени t0 до T с числом интервалов J\n",
    "        \"\"\"\n",
    "        N = np.size(self.x_init) # Размерность начального вектора\n",
    "        J = np.size(self.t)\n",
    "        x_t = np.zeros((J,N)) # Результирующий массив\n",
    "\n",
    "        for j in range(J):\n",
    "            x_t[j] = self.evolution_law(self.t[j])\n",
    "        self.x_t = x_t\n",
    "        \n",
    "    @property\n",
    "    def weights(self):\n",
    "        w = ThermalTransfer(1, 0)\n",
    "        w.t = self.t\n",
    "        w.signal_evolution()\n",
    "        return w.x_t"
   ]
  },
  {
   "cell_type": "code",
   "execution_count": 8,
   "metadata": {
    "ExecuteTime": {
     "end_time": "2020-09-05T18:44:14.613477Z",
     "start_time": "2020-09-05T18:44:12.300959Z"
    }
   },
   "outputs": [
    {
     "data": {
      "image/png": "[encoded data removed]",
      "text/plain": [
       "<Figure size 432x288 with 1 Axes>"
      ]
     },
     "metadata": {
      "needs_background": "light"
     },
     "output_type": "display_data"
    },
    {
     "data": {
      "image/png": "[encoded data removed]",
      "text/plain": [
       "<Figure size 432x288 with 1 Axes>"
      ]
     },
     "metadata": {
      "needs_background": "light"
     },
     "output_type": "display_data"
    },
    {
     "data": {
      "image/png": "[encoded data removed]",
      "text/plain": [
       "<Figure size 432x288 with 1 Axes>"
      ]
     },
     "metadata": {
      "needs_background": "light"
     },
     "output_type": "display_data"
    }
   ],
   "source": [
    "transfer = ThermalTransfer(x, np.zeros(N) + np.mean(x))  # Затухание происходит до значения мат ожидания\n",
    "t0 = 0 # Начальный момент времени\n",
    "T = 2.5 # Конечный момент времени\n",
    "J = 5 # Число временных итераций\n",
    "transfer.set_time_nodes(t0, T, J)\n",
    "transfer.signal_evolution()\n",
    "plt.figure()\n",
    "plt.title('Эволюция исходного сигнала')\n",
    "for j in range(J):\n",
    "        plt.plot(np.arange(N), transfer.x_t[j], \\\n",
    "                      **{'linewidth' : 2, 'label' : 'x'});\n",
    "#plt.savefig('transfer_evolution.pdf')\n",
    "\n",
    "plt.figure()\n",
    "plt.title('Веса для данной эволюции')\n",
    "plt.xlabel('$t_j$')\n",
    "plt.scatter(np.arange(J), transfer.weights, \\\n",
    "                      **{'linewidth' : 2, 'color' : 'blue', 'label' : 'x'});\n",
    "#plt.savefig('weights_transfer_evolution.pdf')\n",
    "\n",
    "plt.figure()\n",
    "plt.title('Усиленные сигналов весами')\n",
    "for j in range(J):\n",
    "    D = np.linalg.inv(np.eye(N)*transfer.weights[j])\n",
    "    plt.plot(np.arange(N), D@transfer.x_t[j], \\\n",
    "                  **{'linewidth' : 2, 'color' : 'blue', 'label' : 'x'});"
   ]
  },
  {
   "cell_type": "code",
   "execution_count": 9,
   "metadata": {
    "ExecuteTime": {
     "end_time": "2020-09-05T18:44:14.644727Z",
     "start_time": "2020-09-05T18:44:14.613477Z"
    }
   },
   "outputs": [],
   "source": [
    "class ThermalConductivity(Evolution):\n",
    "    \"\"\"Теплопроводность со стержнем\"\"\"\n",
    "    \n",
    "    def __init__(self, a, j_l, j_r):\n",
    "        \"\"\" Инициализируем стержень с входными параметрами:\n",
    "        а - коэфф. теплопроводности\n",
    "        j_l, j_r - левая и правая границы области, в которой расположен сигнал\n",
    "        \"\"\"\n",
    "        self.a = a\n",
    "        self.area = [j_l, j_r]\n",
    " \n",
    "    def signal_evolution(self, x):\n",
    "        \"\"\" Возвращает np.array, состоящий из сигналов\n",
    "        начиная с момента времени t0 до T с числом интервалов J\n",
    "        \"\"\"\n",
    "        N = np.size(x) # Размерность начального вектора\n",
    "        J = np.size(self.t)\n",
    "        x_t = np.zeros((J,N)) # Результирующий массив\n",
    "\n",
    "        for i in range(0,J):\n",
    "            D = self.thermal_matrix(self.t[i], N)\n",
    "            x_t[i,:] = D @ x\n",
    "        self.x_t = x_t\n",
    "        \n",
    "    def thermal_matrix(self, t, N):\n",
    "        \"\"\"Функция возвращает матрицу для случая теплопроводности в стержне в момент времени t\"\"\"\n",
    "        \n",
    "        def grin_discrete(i,j, t, h=1):\n",
    "            \"\"\"\n",
    "            Функция возвращает значение дискретизированной функции Грина\n",
    "            \"\"\"\n",
    "            return h/(2 *a *np.sqrt(np.pi *t)) *np.exp( -1*(i-j) ** 2 *h ** 2/(4 *a**2 *t) )\n",
    "        \n",
    "        #m = self.area[1] - self.area[0] + 1\n",
    "        m = N\n",
    "        D = np.zeros((N,m))\n",
    "        if t == 0:\n",
    "            return np.eye(N)\n",
    "        for j in range(0,m):\n",
    "            D[0:N,j] = grin_discrete(np.array(range(0,N)),self.area[0] + j,t)\n",
    "        return D"
   ]
  },
  {
   "cell_type": "code",
   "execution_count": 10,
   "metadata": {
    "ExecuteTime": {
     "end_time": "2020-09-05T18:44:15.160362Z",
     "start_time": "2020-09-05T18:44:14.644727Z"
    }
   },
   "outputs": [
    {
     "data": {
      "image/png": "[encoded data removed]",
      "text/plain": [
       "<Figure size 432x288 with 1 Axes>"
      ]
     },
     "metadata": {
      "needs_background": "light"
     },
     "output_type": "display_data"
    }
   ],
   "source": [
    "a = 0.5\n",
    "j_l, j_r = 0, 99\n",
    "t0 = 0.0\n",
    "J = 5\n",
    "T = 2.5\n",
    "conduct = ThermalConductivity(a, j_l, j_r)\n",
    "conduct.set_time_nodes(t0, T, J)\n",
    "conduct.signal_evolution(x,)\n",
    "plt.figure()\n",
    "#plt.title('Эволюция исходного сигнала')\n",
    "for j in range(J):\n",
    "    plt.plot(np.arange(N), conduct.x_t[j], \\\n",
    "                **{'linewidth' : 2, 'label' : 'x'});\n",
    "#plt.savefig('conduct_evolution.pdf')"
   ]
  },
  {
   "cell_type": "markdown",
   "metadata": {},
   "source": [
    "## PSF"
   ]
  },
  {
   "cell_type": "code",
   "execution_count": 11,
   "metadata": {
    "ExecuteTime": {
     "end_time": "2020-09-05T18:44:15.332236Z",
     "start_time": "2020-09-05T18:44:15.300985Z"
    }
   },
   "outputs": [],
   "source": [
    "path = f\"{os.getcwd()}\\\\PSF\"\n",
    "try:\n",
    "    pass\n",
    "    #os.mkdir(path)\n",
    "except OSError:\n",
    "    pass\n",
    "    #os.mkdir(path)"
   ]
  },
  {
   "cell_type": "code",
   "execution_count": 12,
   "metadata": {
    "ExecuteTime": {
     "end_time": "2020-09-05T18:44:15.441612Z",
     "start_time": "2020-09-05T18:44:15.332236Z"
    }
   },
   "outputs": [],
   "source": [
    "class PSF:\n",
    "    \n",
    "    def __init__(self, profile=None, al=None, ar=None):\n",
    "        \"\"\"\n",
    "        Входные аргументы:\n",
    "\n",
    "        Тип профиля:\n",
    "        profile ={'rectangular', 'triangular', ...\n",
    "                  'parabolic','gaussian','exponential'};\n",
    "        Левая и правая границы области:\n",
    "        al < 0, ar > 0\n",
    "        \"\"\"\n",
    "        self.profile = profile\n",
    "        self.area = [al, ar]\n",
    "    \n",
    "    def set_profile(self, new_profile):\n",
    "        self.profile = new_profile\n",
    "        \n",
    "    def set_area(self, new_area):\n",
    "        self.area = new_area\n",
    "    \n",
    "    def get_PSF(self,):\n",
    "        \"\"\"\n",
    "        Функция реализует выбор Point Spread Function.\n",
    "        self.a - список коэффициентов а \n",
    "        \"\"\"\n",
    "        al, ar = self.area\n",
    "        if self.profile == 'rectangular':\n",
    "            self.a = np.ones(ar-al+1)\n",
    "        elif self.profile == 'triangular':\n",
    "            h1y = ar/np.abs(al)\n",
    "            h2y = (ar + h1y)/(np.abs(ar) + 1)\n",
    "            self.a = np.hstack((np.arange(0 + h1y, ar + h1y + h1y/10, h1y),\n",
    "                           np.arange(ar + h1y -h2y, 0 + h2y/10,-h2y)))\n",
    "        elif self.profile == 'parabolic':\n",
    "            # Мы делаем две разные ветви параболы со своими коэфф\n",
    "            # при х: ( y(ar) = k2*ar^2= y(al)=k1*al^2 )\n",
    "            k = np.array([( (ar+1)/(al-1) ) ** 2, 1])\n",
    "            a1 = k[0]*np.arange(al,0+1) ** 2\n",
    "            a2 = k[1]*np.arange(0+1,ar+1) ** 2\n",
    "            self.a = (ar + 1) ** 2 - np.hstack((a1,a2))\n",
    "        elif self.profile == 'gaussian':\n",
    "            # c = sigma\n",
    "            c = (ar - al)/6\n",
    "            w = 2*np.sqrt(2*np.log(2))*c\n",
    "            self.a = np.exp(-4*np.log(2)*(np.arange(al,ar+1)-(ar + al)/2 )** 2/ w **2)\n",
    "        elif self.profile == 'exponential': #(asymmetric)\n",
    "            self.a = np.exp( -np.arange(al, ar + 1)/( (ar + np.abs(al))/4 ) )\n",
    "        elif self.profile == 'random_noise':\n",
    "            self.a = np.abs(np.random.normal(size=np.abs(al) + np.abs(ar) + 1))\n",
    "        self.a /= np.sum(self.a)\n",
    "     \n",
    "    def random_area(self, shift = 10):\n",
    "        \"\"\"\n",
    "        Функция получения границ PSF в случае рандомных измерений\n",
    "        \"\"\"\n",
    "        al,ar = 100,0;\n",
    "        while al >= ar:\n",
    "            al = int(-1*np.floor(rand.sample()*5) - shift)\n",
    "            ar = int(   np.floor(rand.sample()*5) + shift)\n",
    "        return al, ar\n",
    "        \n",
    "    def plot(self,):\n",
    "        al, ar = self.area\n",
    "        plt.figure()\n",
    "        plt.plot(np.arange(al-1,ar+2), np.hstack([0,self.a,0]))\n",
    "        plt.title(f'Point Spread Function. Profile is {self.profile}')\n",
    "        \n",
    "        #plt.savefig(f'{os.getcwd()}\\\\PSF\\\\profile_{self.profile}.pdf')\n"
   ]
  },
  {
   "cell_type": "code",
   "execution_count": 13,
   "metadata": {
    "ExecuteTime": {
     "end_time": "2020-09-05T18:44:15.832242Z",
     "start_time": "2020-09-05T18:44:15.504115Z"
    }
   },
   "outputs": [
    {
     "data": {
      "image/png": "[encoded data removed]",
      "text/plain": [
       "<Figure size 432x288 with 1 Axes>"
      ]
     },
     "metadata": {
      "needs_background": "light"
     },
     "output_type": "display_data"
    }
   ],
   "source": [
    "profiles =['rectangular','triangular','parabolic',\\\n",
    "    'gaussian','exponential','random_noise']\n",
    "al, ar = -15, 5\n",
    "#for profile in profiles:\n",
    "profile = profiles[2]\n",
    "psf = PSF(profile, al, ar)\n",
    "psf.get_PSF()\n",
    "psf.plot()"
   ]
  },
  {
   "cell_type": "markdown",
   "metadata": {},
   "source": [
    "## Mode\n"
   ]
  },
  {
   "cell_type": "code",
   "execution_count": 14,
   "metadata": {
    "ExecuteTime": {
     "end_time": "2020-09-05T18:44:15.894741Z",
     "start_time": "2020-09-05T18:44:15.863495Z"
    }
   },
   "outputs": [],
   "source": [
    "class Mode:\n",
    "    \n",
    "    def __init__(self, mode):\n",
    "        self.mode = mode\n",
    "        \n",
    "    def get_mode(self, profile, bs):\n",
    "        \"\"\" \n",
    "        Функция реализует выбор режима моделирования:\n",
    "        - usual - обычный запуск без режимов\n",
    "\n",
    "        - missing - Часть наблюдений пропадает (рандомное число рандомных int)\n",
    "\n",
    "        - advance - Точечные измерения:\n",
    "          chain_of_measurements - список со словарями {каким прибором: какие точки мерять}\n",
    "\n",
    "        \"\"\"\n",
    "        profiles = {\n",
    "            'r': 'rectangular',\n",
    "            't': 'triangular',\n",
    "            'p': 'parabolic',\n",
    "            'g': 'gaussian',\n",
    "            'e': 'exponential',\n",
    "            'n': 'random_noise'\n",
    "        }\n",
    "\n",
    "        if self.mode =='advance':\n",
    "            chain_of_measurements = []\n",
    "            sym_profiles = re.sub('[^a-z]', '', bs)  # Вытаскиваем все буквы из строки\n",
    "            bs = ''.join(re.split(r'[a-z]', bs)) # Пересоздаем строку без букв\n",
    "            bs = bs.split('\\n')\n",
    "            # Если приписки нет, то 'rectangle'\n",
    "            sym_profiles += 'r'*(len(bs) - len(sym_profiles))\n",
    "\n",
    "            for string, profile in zip(bs, sym_profiles):\n",
    "                if \":\" in string:\n",
    "                    tmp = []\n",
    "                    for s in string.split():\n",
    "                        if \":\" in s:\n",
    "                            lis = list(map(int,s.split(\":\")))\n",
    "                            tmp += range(lis[0],lis[1]+1)\n",
    "                        else:\n",
    "                            tmp.append(int(s))\n",
    "                else:\n",
    "                    tmp = list(map(int,string.split()))\n",
    "                if tmp != []:\n",
    "                    chain_of_measurements.append((profiles[profile], tmp))\n",
    "        else:\n",
    "            chain_of_measurements = [(profile, [0,0])]\n",
    "        self.b = chain_of_measurements"
   ]
  },
  {
   "cell_type": "code",
   "execution_count": 15,
   "metadata": {
    "ExecuteTime": {
     "end_time": "2020-09-05T18:44:16.035370Z",
     "start_time": "2020-09-05T18:44:15.925994Z"
    }
   },
   "outputs": [
    {
     "data": {
      "text/plain": [
       "[('exponential', [50]),\n",
       " ('rectangular', [-2, 1, 2, 3, 4, 71, 72, 73, 74, 75, 76, 80]),\n",
       " ('triangular', [15, 16, 17, 18, 19, 20]),\n",
       " ('rectangular', [23, 45])]"
      ]
     },
     "execution_count": 15,
     "metadata": {},
     "output_type": "execute_result"
    }
   ],
   "source": [
    "bs = 'e 50 \\nr -2 1 2 3 4 71:76 80 \\nt 15:20 \\n 23 45'\n",
    "mode = Mode('advance')\n",
    "profile = 'e'\n",
    "mode.get_mode(profile,bs)\n",
    "mode.b"
   ]
  },
  {
   "cell_type": "markdown",
   "metadata": {},
   "source": [
    "## Information"
   ]
  },
  {
   "cell_type": "code",
   "execution_count": 16,
   "metadata": {
    "ExecuteTime": {
     "end_time": "2020-09-05T18:44:16.207249Z",
     "start_time": "2020-09-05T18:44:16.082245Z"
    }
   },
   "outputs": [],
   "source": [
    "class Information:\n",
    "    \n",
    "    def __init__(self, v=None, T=None):\n",
    "        self.v = [v]\n",
    "        self.T = [T]\n",
    "    \n",
    "    def add(self, v, T):\n",
    "        \"\"\"Накапливаем объединенную каноническую информацию для каждой итерации\"\"\"\n",
    "        if self.v[0] is None:\n",
    "            self.v = [v]\n",
    "        else:\n",
    "            self.v += [v]\n",
    "        \n",
    "        if self.T[0] is None:\n",
    "            self.T = [T]\n",
    "        else:\n",
    "            self.T += [T]\n",
    "            \n",
    "    def canonical_info(self, A, S, y):\n",
    "        \"\"\"\n",
    "        Получение Канонической информации\n",
    "        (v, T), v = A* @ inv(S) @ y, T = A* @ inv(S) @ A\n",
    "        \"\"\"\n",
    "        #Sinv = np.linalg.inv(S)\n",
    "        Sinv = S # Так как уже обратили для ускорения\n",
    "        Atran = A.transpose() \n",
    "        self.add(Atran @ Sinv @ y, Atran @ Sinv @ A)\n",
    "        \n",
    "    def estimation(self,):\n",
    "        \"\"\"\n",
    "        Явная информация (x_est, Q)\n",
    "        \"\"\"\n",
    "        v, T = self.reduce()\n",
    "        Q = np.linalg.inv(T)\n",
    "        x_est = Q @ (v)\n",
    "        return Q, x_est\n",
    "    \n",
    "    def reduce(self,):\n",
    "        \n",
    "        sum_v = self.v[0]\n",
    "        for v in self.v[1:]:\n",
    "            sum_v = [x+y for x,y in zip(sum_v,v)]\n",
    "        \n",
    "        sum_T = self.T[0]\n",
    "        for T in self.T[1:]:\n",
    "            sum_T = [x+y for x,y in zip(sum_T,T)]\n",
    "        \n",
    "        return sum_v, sum_T"
   ]
  },
  {
   "cell_type": "code",
   "execution_count": 17,
   "metadata": {
    "ExecuteTime": {
     "end_time": "2020-09-05T18:44:16.504130Z",
     "start_time": "2020-09-05T18:44:16.254123Z"
    }
   },
   "outputs": [
    {
     "name": "stdout",
     "output_type": "stream",
     "text": [
      "[[1, 1]] [None]\n",
      "[[1, 1], [1, 2], [5, 6]] [[3, 4], [7, 8]]\n",
      "([7, 9], [10, 12])\n",
      "[[1, 1], [1, 2], [5, 6]] [[3, 4], [7, 8]]\n"
     ]
    }
   ],
   "source": [
    "inf = Information([1,1])\n",
    "print(inf.v, inf.T)\n",
    "inf.add([1,2],[3,4])\n",
    "inf.add([5,6],[7,8])\n",
    "print(inf.v, inf.T)\n",
    "print(inf.reduce())\n",
    "print(inf.v, inf.T)"
   ]
  },
  {
   "cell_type": "markdown",
   "metadata": {},
   "source": [
    "## Noise"
   ]
  },
  {
   "cell_type": "code",
   "execution_count": 18,
   "metadata": {
    "ExecuteTime": {
     "end_time": "2020-09-05T18:44:16.801004Z",
     "start_time": "2020-09-05T18:44:16.551003Z"
    }
   },
   "outputs": [],
   "source": [
    "class Noise:\n",
    "    \n",
    "    def __init__(self, know_sigma, sigma_original):\n",
    "        self.know_sigma = know_sigma\n",
    "        self.sigma_original = sigma_original\n",
    "        \n",
    "    def set_A_matrix(self, M, A):\n",
    "        \"\"\"Матрица для случая неизвестной sigma\"\"\"\n",
    "        if self.know_sigma == 0:\n",
    "            self.A_sigma = np.eye(M) -  A @ np.linalg.inv(A.transpose() @ A)@ A.transpose()\n",
    "        else:\n",
    "            self.A_sigma = []\n",
    "        \n",
    "    def dispersion_matrix(self, M, N, v):\n",
    "        \"\"\"\n",
    "        Функция получения дисперсионной матрицы (на случай, если усложним корреляции шума)\n",
    "        \"\"\"\n",
    "        self.sigma_estimation(M, N, v)\n",
    "        self.S = np.eye(M) * self.sigma_est ** (-2) # Сразу обращаем для ускорения кода   \n",
    "    \n",
    "    def sigma_estimation(self, M, N, v, axis=None):\n",
    "        \"\"\"\n",
    "        Вычисление оценки дисперсии шума в случаях, \n",
    "        когда она известнa (оценка равна известному значению), и \n",
    "        когда онa неизвестна\n",
    "        \"\"\"\n",
    "        if self.know_sigma: \n",
    "            self.sigma_est = self.sigma_original\n",
    "        else:\n",
    "            # В случае N=M  (идеальное измерение) происходит деление на ноль\n",
    "            try:\n",
    "                self.sigma_est = ( \n",
    "                            1/(M - N)*np.linalg.norm(self.A_sigma @ v,axis=axis) ** 2 \n",
    "                                 ) ** (1/2)\n",
    "            except ZeroDivisionError:\n",
    "                self.sigma_est = self.sigma_original\n"
   ]
  },
  {
   "cell_type": "markdown",
   "metadata": {},
   "source": [
    "## Measurement\n"
   ]
  },
  {
   "cell_type": "code",
   "execution_count": 19,
   "metadata": {
    "ExecuteTime": {
     "end_time": "2020-09-05T18:44:17.004133Z",
     "start_time": "2020-09-05T18:44:16.847879Z"
    }
   },
   "outputs": [],
   "source": [
    "class Measurement:\n",
    "    \n",
    "    def __init__(self, M, N):\n",
    "        self.M = M\n",
    "        self.N = N\n",
    "    \n",
    "    def A_matrix(self, psf):\n",
    "        \"\"\"\n",
    "        Создание матрицы измерения А, определяемой функции рассеяния точки\n",
    "        Входные данные:\n",
    "            psf.a - массив с коэффициентами фукнции рассеяния\n",
    "            psf.area = al,ar - левая и правая границы профиля функции рассеяния\n",
    "            M - размерность измерения\n",
    "            N - размерность целевого сигнала\n",
    "        \"\"\"\n",
    "        al, ar = psf.area\n",
    "        \n",
    "        A = np.zeros( (self.M,self.N) )\n",
    "        for j in range(0,self.N):\n",
    "            A[j : ar - al + 1 + j, j] = psf.a\n",
    "        self.A = A\n",
    "        return A\n",
    "\n",
    "    def measure(self, x, noise, Ncal,calibration):\n",
    "        \"\"\"\n",
    "        Получение измерений\n",
    "        \"\"\"\n",
    "        # Генерируем нормальный шум Ncal штук по M точек (это используется для ускорения калибровки)\n",
    "        v = np.random.normal(0, noise.sigma_original, (self.M, Ncal))\n",
    "        if Ncal == 1: v = v[:,0] # Если это обычное измерение, то убираем одну размерность\n",
    "        y = self.A @ x + v\n",
    "\n",
    "        if not calibration:\n",
    "            noise.dispersion_matrix(self.M, self.N, v) \n",
    "            \n",
    "        return y, v\n",
    "    \n",
    "    \n",
    "    def measure_calibration(self, Ncal, noise, x0=0):\n",
    "        \"\"\"\n",
    "        Получаем калибровку\n",
    "        \"\"\"\n",
    "        M, N = self.M, self.N\n",
    "\n",
    "        # Теплицева матрица:\n",
    "        B = get_B(N)\n",
    "\n",
    "        # Генерируем сигналы phi_i, P - массив сигналов\n",
    "        P, _, _ = Xgeneration(N, B, Ncal, x0)  # dim(P) = [Ncal, N]\n",
    "\n",
    "        # Делаем измерения, psi - массив измерений, v - массив шумов\n",
    "        psi, v = self.measure(P, noise, Ncal, 1) #dim(psi) = dim(v) = [Ncal, M]\n",
    "\n",
    "        # Среднее значение от мат. ожиданий калибровочных сигналов - для случая, если нет априорной информации \n",
    "        xcal0 = np.mean(P)\n",
    "        return P, psi, xcal0, v\n",
    "\n",
    "    def missing(self, mode, b, psf, percent=0):\n",
    "        \"\"\"\n",
    "        Получаем список с точками, которые мы потеряем\n",
    "        \"\"\"\n",
    "        al, ar = psf.area\n",
    "        \n",
    "        miss = []\n",
    "        if mode =='missing':\n",
    "            # Сколько наблюдений мы потеряем: k = (1:M)\n",
    "            if percent ==0:\n",
    "                k = int(np.floor(rand.sample()*self.M))\n",
    "            else:\n",
    "                k = int(round(percent*self.M/100,2))\n",
    "            # Какое наблюдение мы потеряем (номер строки)\n",
    "            miss = list(np.random.randint(0, self.M, k))\n",
    "        elif mode =='advance':\n",
    "            # Зададим множество точек измерения y, которые мы не потеряли\n",
    "            not_miss = set()\n",
    "            for i in range(0, len(b)):\n",
    "                not_miss.update( [b[i] - al] )\n",
    "            # Разница множества всех точек в измерении и тех, которые мы меряем\n",
    "            miss = list(set(range(0,self.M)) - not_miss)\n",
    "        return miss"
   ]
  },
  {
   "cell_type": "markdown",
   "metadata": {},
   "source": [
    "## Прорисовка графиков"
   ]
  },
  {
   "cell_type": "code",
   "execution_count": 45,
   "metadata": {
    "ExecuteTime": {
     "end_time": "2020-09-05T19:16:48.986094Z",
     "start_time": "2020-09-05T19:16:48.956089Z"
    }
   },
   "outputs": [],
   "source": [
    "def plot_modes(mode, x,y, b, al,ar):\n",
    "    \"\"\"\n",
    "    Функция реализует построение графика для исходного сигнала\n",
    "    и одного наблюдения\n",
    "    \"\"\"\n",
    "    \n",
    "    plt.figure(2);\n",
    "    plt.plot(list(range(N)), x, \\\n",
    "                  **{'linewidth' : 2, 'color' : 'blue', 'label' : 'x'})\n",
    "    plt.plot(np.arange(al,N+ar),y, \\\n",
    "                  **{'linewidth' : 2, 'color' : 'red', 'label' : 'y'})\n",
    "    plt.title('Исходный сигнал и одно последнее набюдение')\n",
    "    plt.ylabel('x')\n",
    "    plt.grid(True)\n",
    "    plt.legend()\n",
    "    if mode == 'advance':\n",
    "        plt.scatter(y=[0]*len(b), x=b, s=100, color='firebrick', alpha=0.5);\n",
    "\n",
    "def plot_res(Q, x_est, mode, b, K, x):\n",
    "    \"\"\"\n",
    "    Функция реализует построение результирующего графика \n",
    "    \"\"\"\n",
    "\n",
    "    plt.figure(1);\n",
    "    plt.plot(list(range(N)), x, \\\n",
    "              **{'linewidth' : 2, 'color' : 'blue', 'label' : 'x'})\n",
    "    plt.plot(list(range(N)), x_est, \\\n",
    "              **{'linewidth' : 2, 'color' : 'red', 'label' : 'x_est'})\n",
    "    plt.plot(list(range(N)), x_est + np.diag(Q) ** (1/2), \\\n",
    "              **{'linewidth' : 1, 'color' : 'green', 'linestyle' : '--', 'label' : 'error'})\n",
    "    plt.plot(list(range(N)), x_est - np.diag(Q) ** (1/2), \\\n",
    "              **{'linewidth' : 1, 'color' : 'green', 'linestyle' : '--'})\n",
    "    #plt.title(f'{mode}. Кол-во точек графика N = {N}. Кол-во измерений K = {K}')\n",
    "    plt.ylabel('x')\n",
    "    plt.grid(True)\n",
    "    plt.legend()\n",
    "    plt.savefig('coarse.pdf')\n",
    "    print(f'Q: Оценка погрешности sqrt(E||x_est - x||^2) = {round(Q.trace()**(1/2), 3)}')\n",
    "    print(f'Непосредственно Оценка погрешности ||x_est - x|| = {round(np.linalg.norm(x_est-x),3)}')"
   ]
  },
  {
   "cell_type": "code",
   "execution_count": 43,
   "metadata": {
    "ExecuteTime": {
     "end_time": "2020-09-05T19:10:43.555637Z",
     "start_time": "2020-09-05T19:10:43.524402Z"
    }
   },
   "outputs": [],
   "source": [
    "def animation_q(x,Q, q,q_model, N, N_s):\n",
    "    \"\"\"Функция построения анимации (GIF, MP4 и тд)\n",
    "    \n",
    "    Входные параметры:\n",
    "     x - сетка по пространственной координате x\n",
    "     q - вычисленный в процессе численного расчета массив значений функции q на рвномерной сетке x[0,:]\n",
    "     q_model - массив значений модельной функции q\n",
    "     N - число интервалов сетки по переменной х\n",
    "     N_s - число интервалов сетки по переменной s\n",
    "     \n",
    "    Выходные данные:\n",
    "     anim - специальная функция для последующего сохранения анимации\n",
    "     \n",
    "    \"\"\"\n",
    "    fig = plt.figure();\n",
    "    k = 1 # Для наглядности отрисовывать численное решение\n",
    "    # будем только в каждом k-м узле сетки x\n",
    "    l = 1 # Для наглядности отрисовывать численное решение\n",
    "    # будем только в каждый l-й момент времени\n",
    "    \n",
    "    #plt.title('Эволюция решения')\n",
    "    ax = plt.axes(xlim=(0, N), \n",
    "                  ylim=(np.min(np.append(q[-1], q_model))-5, np.max(np.append(q[-1], q_model))+5))\n",
    "    ax.set_ylabel('x');\n",
    "    ax.grid(True)\n",
    "    #plt.plot(x[0::k], q_model[0::k],'b--')\n",
    "    line, = plt.plot([], [], **{'linewidth' : 2, 'color' : 'red','label' : 'x_est'})\n",
    "    line_error_plus, = plt.plot([], [], **{'linewidth' : 1, 'color' : 'green', 'linestyle' : '--',\n",
    "                                                'label' : 'error'})\n",
    "    line_error_minus, = plt.plot([], [], **{'linewidth' : 1, 'color' : 'green', 'linestyle' : '--'})    \n",
    "    plt.legend(loc=4)\n",
    "    text = ax.text(0.0, 0,  '', transform=ax.transAxes, fontsize=15)\n",
    "    s = np.arange(N_s+1)\n",
    "    \n",
    "    def init():\n",
    "        line.set_data([], [])\n",
    "        return line,\n",
    "    def animate(i):\n",
    "        y = q[i][0::k]\n",
    "        line.set_data(x[0::k], y)\n",
    "        line_error_plus.set_data(x[0::k], y + np.diag(Q[i]) ** (1/2))\n",
    "        line_error_minus.set_data(x[0::k], y - np.diag(Q[i]) ** (1/2))\n",
    "        text.set_text('iter %i'%(s[i]))\n",
    "        return line,\n",
    "\n",
    "    anim = FuncAnimation(fig, animate, init_func=init,\n",
    "                                   frames=range(0,N_s), interval=int(10000/N_s), blit=True)\n",
    "    return anim"
   ]
  },
  {
   "cell_type": "code",
   "execution_count": 33,
   "metadata": {
    "ExecuteTime": {
     "end_time": "2020-09-05T19:04:21.395783Z",
     "start_time": "2020-09-05T19:04:21.364530Z"
    }
   },
   "outputs": [],
   "source": [
    "def create_gif(inf, x,N,K, calibration, alpha):\n",
    "    \n",
    "    num_inf = len(inf.v)\n",
    "    inf_tmp = Information()\n",
    "    x_est, Q = [], []\n",
    "    for i in range(num_inf+1):\n",
    "        inf_tmp.v = inf.v[0:i+1]\n",
    "        inf_tmp.T = inf.T[0:i+1]\n",
    "        \n",
    "        Q_tmp, x_tmp = inf_tmp.estimation()\n",
    "        Q.append(Q_tmp)\n",
    "        x_est.append(x_tmp)\n",
    "        \n",
    "        if calibration:\n",
    "            Q[i] = (alpha + 1/K)*Q[i]\n",
    "            \n",
    "    anim = animation_q(range(0,N),Q, x_est,x, N,K+1)\n",
    "    anim.save(f'{int(K)} estimation of signal N_{N}.mp4', writer='ffmpeg', dpi=100)"
   ]
  },
  {
   "cell_type": "markdown",
   "metadata": {},
   "source": [
    "## Main"
   ]
  },
  {
   "cell_type": "code",
   "execution_count": 23,
   "metadata": {
    "ExecuteTime": {
     "end_time": "2020-09-05T18:44:17.582264Z",
     "start_time": "2020-09-05T18:44:17.504139Z"
    }
   },
   "outputs": [],
   "source": [
    "def main(x, noise, evolution, apriori, K,\n",
    "         psf, mode, inf, b,calibration, \n",
    "         change_profile=1, persent=0, print_text=1):\n",
    "    \n",
    "    missed_inf = []      # Сколько всего наблюдений потеряли\n",
    "    ysum, vsum = 0, 0    # Для случая калибровки: массивы для усредненных значений измерений и шумов\n",
    "    sigma_est = []       # Для случая неизвестного sigma\n",
    "    \n",
    "    alpha = 0\n",
    "    al, ar = psf.area\n",
    "    \n",
    "    if apriori and not calibration:\n",
    "        inf.canonical_info(np.eye(N), np.linalg.inv(F), x0)\n",
    "    \n",
    "    for j in range(K):\n",
    "        # Будем создавать измерение А следующим способом:\n",
    "        # Рандомно генерируем отрезок [al.ar], (если не задано иное)\n",
    "        # Для каждого вычисляем коэффициенты a, строим матрицу А\n",
    "        # На выходе получим наблюдения разной размерности\n",
    "        if change_profile:\n",
    "            al, ar = psf.random_area()\n",
    "            \n",
    "        # Если мы не изменяем профиль за время измерений\n",
    "        if change_profile or j == 0:\n",
    "            \n",
    "            psf.set_area([al, ar])\n",
    "            psf.get_PSF()\n",
    "            # Размерность \"измеренного\" сигнала Y напрямую связана \n",
    "            # с границами профиля функции рассеяния PSF\n",
    "            M = int(N + ar - al)  \n",
    "            \n",
    "            # Создаем матрицу\n",
    "            measurement = Measurement(M, N)\n",
    "            A_orig = measurement.A_matrix(psf)\n",
    "            \n",
    "            # Матрица для случая неизвестной sigma\n",
    "            noise.set_A_matrix(M, A_orig)\n",
    "            \n",
    "            \n",
    "        A = A_orig.copy()\n",
    "        # Обнуляем соответствующие строки\n",
    "        miss = measurement.missing(mode, b, psf, persent)\n",
    "        if len(miss): A[miss] = 0\n",
    "                \n",
    "        # Чтобы отобразить процент потерянных наблюдений\n",
    "        missed_inf += [len(miss)/M]\n",
    "        \n",
    "        D_cond, D_tran = evolution.D_matrix(j, N)\n",
    "        measurement.A = A @ D_tran @ D_cond\n",
    "        \n",
    "        \"\"\"\n",
    "        np.set_printoptions(precision=2)\n",
    "        print(measurement.A)\n",
    "        print('*'*10)\n",
    "        print(A)\n",
    "        #\"\"\"\n",
    "        # Делаем измерение\n",
    "        y, v = measurement.measure(x, noise, 1, 0)\n",
    "        \n",
    "        # Добавляем оценку для sigma в список\n",
    "        sigma_est.append(noise.sigma_est)\n",
    "        \n",
    "        if calibration:\n",
    "            # Для редима калибровки нужно собрать среднее всех измерений и шумов\n",
    "            D_cond, D_tran = evolution.D_matrix(j, M)\n",
    "            D = np.linalg.inv( D_cond @ D_tran )\n",
    "            ysum += D @ y\n",
    "            vsum += v \n",
    "        else:\n",
    "            # Получаем каноническую информацию\n",
    "            inf.canonical_info(A @ D_tran @ D_cond, noise.S, y)\n",
    "            \n",
    "        \n",
    "    if calibration:\n",
    "        # В случае нескольких измерений берем среднее значение и средн. шум\n",
    "        y = ysum/K\n",
    "        v = vsum/K\n",
    "        \n",
    "        # Оптимальное число калибровочных измерений\n",
    "        Ncal = N*K\n",
    "        \n",
    "        if mode == 'missing':\n",
    "            A = A_orig.copy()\n",
    "            \n",
    "        measurement.A = A\n",
    "        # Получим калибровочные сигналы и измерим наблюдения по ним\n",
    "        P, psi, xcal, vall = measurement.measure_calibration(Ncal, noise)\n",
    "        H = P @ P.transpose()\n",
    "        G = psi @ P.transpose()\n",
    "        \n",
    "        if apriori:\n",
    "            x0[0:N-1] = 0\n",
    "            F_ = x0 @ x0.transpose()  + F\n",
    "            # F_ = H/Ncal  Если оставить это, то случай 1 перестает быть\n",
    "        else:\n",
    "            # Если мы ничего не знаем о генераторе сигнала:\n",
    "            x0[0:N-1] = xcal # Мат. ожидание от сгенерированных калибров сигналов\n",
    "            F_ = H/Ncal\n",
    "    \n",
    "        # Оценим матрицу A0\n",
    "        Hinv = np.linalg.inv(H)\n",
    "        A0 = G @ Hinv\n",
    "        noise.set_A_matrix(M, A0)\n",
    "        \n",
    "        # Оценим неизвестную sigma через матрицу с шумами\n",
    "        noise.sigma_estimation(M,N, vall, axis=0)\n",
    "        sigma_est = np.mean(noise.sigma_est)\n",
    "        S = np.eye(M) * sigma_est**(-2) # Сразу обращаем для ускорения кода\n",
    "        \n",
    "        alpha = (Hinv @ F_).trace()\n",
    "        if print_text:\n",
    "            print(f'alpha = {round(alpha,2)}, а должно быть число неизв/число калибр {round(N/Ncal,2)}')\n",
    "        \n",
    "        # Получаем каноническую информацию \n",
    "        inf.canonical_info(np.eye(N),(alpha + 1/K)*np.linalg.inv(F_),x0)\n",
    "        inf.canonical_info(A0, S, y)\n",
    "        \n",
    "    if print_text:\n",
    "        print(f'Оценка дисперсии шума {round(np.mean(sigma_est),2)}, а истинная дисперсия {noise.sigma_original}')\n",
    "        \n",
    "    if mode =='missing' and print_text:\n",
    "        print(f'В общей сложности мы потеряли {round(np.mean(missed_inf)*100,2)}% наблюдений')\n",
    "        \n",
    "    return y, alpha"
   ]
  },
  {
   "cell_type": "markdown",
   "metadata": {},
   "source": [
    "## Интерактивное управление"
   ]
  },
  {
   "cell_type": "markdown",
   "metadata": {},
   "source": [
    "Реализация управления программы:\n",
    "- внутренние параметры (задаются в теле def Calculation): \n",
    "    - percent - процент потерянных данных в режиме missing, по-умолчанию стоит равным 0, что означает, что число потерянных данных выбирается из нормального распределения [0, dim(y)]\n",
    "    - sigma - дисперсия шума\n",
    "- mode - выбор режима:\n",
    "    - usual - измеряем каждую точку исходного сигнала\n",
    "    - missing - измеряем каждую точку исходного сигнала, но в процессе 'теряем' percent% наблюдений\n",
    "    - advance - измеряем только заданные в поле b точки \n",
    "- apriori - Использование или нет априорной информации\n",
    "- calibration - Использование или нет режима калибровки\n",
    "- K - Кол-во измерений \n",
    "- random($a_l,a_r$) - использование или нет рандомно полученных границ для функции рассеяния (в случае отключения, ползунок для a ни на что не влияет)\n",
    "- know_sigma - Знаем или нет дисперсию шума\n",
    "- -\\\\- conductivity - Эволюционирует ли сигнал и как\n",
    "- Время эволюции - отображает время эволюции (программное, а не физичекое), при этом число временных итераций == число измерений\n",
    "- profile - выбор профиля функции рассеяния точки\n",
    "- a = $[a_l,a_r]$ - выбор границ функции рассеяния\n",
    "- b - двумерный массив с точками, которые мы измеряем при режиме `advance` (При других режимах не влияет на расчет). Каждая строка в b представляет собой набор точек, которые мы измеряем в одной итерации цикла, само число итераций получается из размерности b. Для разделения точек для разных итераций при вводе используется '\\n'. Перед каждым набором можно задать желаемую функцию рассеяния точки (разделяя пробелом), котрую буем использовать для данной итерации. Если таковой не введено для строчки, то по-умолчанию используем rectangular. Ввод точек доступен с двух режимах:\n",
    "    - a b c - неубывающая последовательность чисел от 1 до 100, разделенные пробелом\n",
    "    - a:d = a b c d - два числа, разделенные \":\" - набор точек от a до d с шагом в 1"
   ]
  },
  {
   "cell_type": "markdown",
   "metadata": {},
   "source": [
    "Особенности реализации (или теоретической модели):\n",
    "- Случай 1:\n",
    "    - mode: любой\n",
    "    - Включен calibration\n",
    "    - K = 1 (Одно измерение)\n",
    "    \n",
    "    Калибровка. Теоретическое значение $\\alpha$ при большом числе измерений = Число неизв/число калибровочн измерений. Оно не сходится с получаемым. В данному случае число измерений = 1, и не является большим. Мы используем сбалансированное число калибровочных измерений: число калибр измерений = число неизв*число измерений. В случае числе измерений К = 1, число калибровочных измерений = числу неизвестных, поэтому при вычислении $\\alpha$ с использованием априорной информации сами значения $\\alpha$ могут выходить довольно большими в зависимости от генерации калибровочных сигналов (это наглядно видно при измении флажка apriori). Но если вручную в коде увеличить число калибровочных сигналов, то эта проблема решается. Возможно, что дело в вычислении F_: когда мы его приближаем без априорной( не знаем F), то в вычислении $\\alpha$ мы получаем заведомо единичную матрицу, в случае же известной F, при малом числе измерений мы не получим выражение вида $H * H^{-1}$\n",
    "    \n",
    "- Случай 2:\n",
    "    - mode: missing\n",
    "    - Выключены calibration, apriori\n",
    "    - Включен флажок с рандомными границами функции рассеяния точки\n",
    "    \n",
    "    В данном случае из-за методики потери данных (просто обнуление соответствующих строк в матрице) при малом числе измерений каноническая информация получается также с  некоторыми зануленными строками, и вычисление оценки невозможно из-за сингулярности канонической информации, но в случае накоплении нескольких измерений при случайном разбросе потерянных данных (Мы меняем границы фунции рассеяния => меняется матрица А => может получиться так, что результирующая сумме канонической информации будет не иметь нулевых строк)  результирующая матрица из суммы каконических информаций не выходит сингулярная.\n",
    "    \n",
    "    При выключенном рандоме сингулярные матрицы выходят при большом количестве потерянных данных (>5%)\n",
    "    \n",
    "- Случай 3 (или баг):\n",
    "    - mode: missing\n",
    "    - Включен calibration\n",
    "    \n",
    "    Здесь обнаружена, похоже, особенность самой модели. Для калировки мы должны получить калибровочные данные. Причем эти данные должны быть получены точно таким же прибором, то есть такой же матрицей, как и та, которой делали измерения. То есть в случае advance в функцию калибровки мы должны передать матрицу, у которой уже занулены соответствующие строки. В случае режима missing это сделать невозможно, потому что матрица каждый раз рандомно меняется."
   ]
  },
  {
   "cell_type": "markdown",
   "metadata": {},
   "source": [
    "Замечание:\n",
    "- В случае теплопроводности со средой важным является коэффициент теплопроводности: если он не очень велик (1-5), то сигнал деформируется не очень быстро и его можно довольно точно восстановить. В случае же большого коэффициента теплопроводности (10-20) сигнал восстанавливается плохо. При этом в случае малого коэффициента темплопроводности $a$ и при большом числе измерений, в моменты времени близкие к 0 матрица D может давать нефизичную оценку (увеличение температуры)\n",
    "- Не работает калибровка + эволюция в стержне (как ее реализовать, проблема кроется в усреднении измерений и шумов для калибровочного измерения)"
   ]
  },
  {
   "cell_type": "markdown",
   "metadata": {},
   "source": [
    "Баг 1:\n",
    "- mode: usual\n",
    "- Включен только thermal_conductivity\n",
    "- Kоличество измерений = 1\n",
    "- Время эволюции любое, кроме 0\n",
    "- Параметр condact_koeff в классе Evolution > 1 ( =3)\n",
    "\n",
    "\n",
    "В данном случае оценку составляет лишь одно измерение и одна, соответствующая ей калибровочная информация. При этом оценка получается неадекватной. Я не знаю, почему так. Можно здесь отметиьь в качестве замечания, что даже если 1 из двух канонических информаций испорчена, то можно получить удовлетвориттельную оценку (вкл. apriori) \n",
    "\n",
    "В классе Evolution при инициализации задается для теплопроводности в стрежне параметр a (чем он больше, тем хуже оценка при использовании только этого измерения)"
   ]
  },
  {
   "cell_type": "code",
   "execution_count": 55,
   "metadata": {
    "ExecuteTime": {
     "end_time": "2020-09-05T19:27:30.263211Z",
     "start_time": "2020-09-05T19:26:39.489669Z"
    },
    "scrolled": false
   },
   "outputs": [
    {
     "data": {
      "application/vnd.jupyter.widget-view+json": {
       "model_id": "a33fd2b9684643bf915b3d163a5be1c2",
       "version_major": 2,
       "version_minor": 0
      },
      "text/plain": [
       "interactive(children=(Dropdown(description='Mode: ', options=('usual', 'missing', 'advance'), value='usual'), …"
      ]
     },
     "metadata": {},
     "output_type": "display_data"
    }
   ],
   "source": [
    "@interact(mode=Dropdown(options=['usual','missing','advance'],\n",
    "                        description=\"Mode: \"),\n",
    "          apriori = Checkbox(value=False, description='apriori',\n",
    "                             disabled=False),\n",
    "          calibration = Checkbox(value=False, description='calibration',\n",
    "                             disabled=False),\n",
    "          change_profile = Checkbox(value=False, description='random (al,ar)',\n",
    "                             disabled=False),\n",
    "          know_sigma = Checkbox(value=True, description='know sigma of noise',\n",
    "                             disabled=False),\n",
    "          transfer_evolution = Checkbox(value=False, description='medium thermal conductivity',\n",
    "                             disabled=False),\n",
    "          conductivity_evolution = Checkbox(value=False, description='thermal conductivity',\n",
    "                             disabled=False),\n",
    "          profile = Dropdown(options=['rectangular','triangular','parabolic',\n",
    "                                      'gaussian','exponential','random_noise'],\n",
    "                             description=\"Profile of PSF: \"),\n",
    "          K =  IntSlider(min=1, max=500, continuous_update=False, description=\"Кол-во измерений K: \", value=100),\n",
    "          Time = FloatRangeSlider(value=[0.01, 1.5], min=-0, max=2.4, continuous_update=False, \n",
    "                                  description=\"Время эволюции J: \"),\n",
    "          area = IntRangeSlider(value=[-10, 10], min=-20, max=20, step=1, description='[al,ar]:', \n",
    "                        continuous_update=False, orientation='horizontal'),\n",
    "          bs = Textarea(value='r 0 10 20 30 40 50 60 70 80 90 100', description='Points of measurements:',\n",
    "                        disabled=False,style={'description_width': 'initial'})\n",
    "         )\n",
    "def Calculation(mode, apriori, K, calibration, change_profile, know_sigma, \n",
    "                transfer_evolution, conductivity_evolution, Time, profile, area, bs): \n",
    "    \n",
    "    # Зададим сиды, чтобы шум генерировался из одной и той же последовательности\n",
    "    random.seed(0)\n",
    "    np.random.seed(0)\n",
    "    \n",
    "    \n",
    "    if calibration and change_profile:\n",
    "        print('В случае калибровки мы полагаем параметр random (al,ar) = False')\n",
    "        change_profile = 0 \n",
    "    if calibration and conductivity_evolution:\n",
    "        print('В случае калибровки не реализована теплопроводность')\n",
    "        conductivity_evolution = 0 \n",
    "\n",
    "    t0, T = Time    \n",
    "    evolution = Evolution(x, transfer_evolution, \n",
    "                          conductivity_evolution, t0, T, K)\n",
    "    \n",
    "    sigma = 2\n",
    "    noise = Noise(know_sigma, sigma)\n",
    "        \n",
    "    percent = 0\n",
    "    \n",
    "    mode = Mode(mode)\n",
    "    mode.get_mode(profile,bs)\n",
    "    \n",
    "    psf = PSF()\n",
    "    inf = Information()\n",
    "    \n",
    "    K_count = 0\n",
    "    for profile, b in mode.b:\n",
    "        K_count += 1\n",
    "        psf.set_profile(profile)\n",
    "        psf.set_area(area)\n",
    "            \n",
    "        y, alpha = main(x, noise, evolution, apriori, \n",
    "                        K, psf, mode.mode, inf, b, calibration,\n",
    "                        change_profile, percent)\n",
    "        \n",
    "        print('Границы функции рассеяния на выходе (al,ar) = ',*psf.area)\n",
    "        if psf.area[0] == psf.area[1]: \n",
    "            print('Оценка для sigma вычисляется только при различных размерностях сигнала и наблюдения')\n",
    "        \n",
    "        # Объединяем информацию и получаем результат   \n",
    "        Q, x_est = inf.estimation()\n",
    "        \n",
    "        if calibration:\n",
    "            Q = (alpha + 1/K)*Q\n",
    "            \n",
    "        plot_res(Q, x_est, mode.mode, b, K, x)\n",
    "        #plot_modes(mode.mode, x, y, b, *psf.area)\n",
    "        #plt.figure(3)\n",
    "        #psf.plot()\n",
    "        plt.show()\n",
    "    #create_gif(inf, x,N,K_count*K, calibration, alpha)\n",
    "        \n",
    "    plt.show()\n",
    "    \n",
    "    if evolution.transfer_evolution or evolution.conductivity_evolution:\n",
    "        plt.figure(4)\n",
    "        evolution.plot(x, K, N)\n",
    "        #plt.savefig('evolution.pdf')\n",
    "        plt.title(f'Evolution of signal: T = {T} number of time steps = {K}')"
   ]
  },
  {
   "cell_type": "code",
   "execution_count": 22,
   "metadata": {
    "ExecuteTime": {
     "end_time": "2020-07-22T14:07:52.468120Z",
     "start_time": "2020-07-22T14:07:52.452494Z"
    }
   },
   "outputs": [
    {
     "data": {
      "text/plain": [
       "'r 0 10 20 30 40 50 60 70 80 90 \\nr 50-80 \\ne 0'"
      ]
     },
     "execution_count": 22,
     "metadata": {},
     "output_type": "execute_result"
    }
   ],
   "source": [
    "'r 0 10 20 30 40 50 60 70 80 90 \\nr 0 5 10 15 20 25 30 35 40'"
   ]
  },
  {
   "cell_type": "markdown",
   "metadata": {
    "ExecuteTime": {
     "end_time": "2020-07-19T10:55:32.681267Z",
     "start_time": "2020-07-19T10:55:32.650072Z"
    }
   },
   "source": [
    "## Графическое исследование\n",
    "\n",
    "В данном подразделе можно сравнить ошибки для различных профилей функции рассеяния. В текущей директории создается папка images, в которой создается  подкаталог с названием использованного режима (mode). Вручную задаются параметры моделирования, а также границы числа измерений и границы функций рассеяния"
   ]
  },
  {
   "cell_type": "code",
   "execution_count": 20,
   "metadata": {
    "ExecuteTime": {
     "end_time": "2020-07-21T09:18:54.563596Z",
     "start_time": "2020-07-21T09:18:39.378616Z"
    }
   },
   "outputs": [],
   "source": [
    "import pandas as pd\n",
    "from IPython.display import display\n",
    "\n",
    "# Для создания папок\n",
    "import os\n",
    "import shutil\n",
    "\n",
    "# Визуализация счета\n",
    "from tqdm.notebook import tqdm\n",
    "\n",
    "# Стандартное импортирование plotly\n",
    "import plotly.graph_objs as go\n",
    "from plotly.offline import iplot\n",
    "\n",
    "# Использование cufflinks в офлайн-режиме\n",
    "#import cufflinks\n",
    "#cufflinks.go_offline()\n",
    "\n",
    "# Настройка глобальной темы cufflinks\n",
    "#cufflinks.set_config_file(world_readable=True, theme='pearl', offline=True)\n"
   ]
  },
  {
   "cell_type": "code",
   "execution_count": 36,
   "metadata": {
    "ExecuteTime": {
     "end_time": "2020-07-21T10:35:21.971755Z",
     "start_time": "2020-07-21T10:28:51.374286Z"
    }
   },
   "outputs": [
    {
     "data": {
      "application/vnd.jupyter.widget-view+json": {
       "model_id": "a06ff55b71ef4c64b02b1c6639a9ef5c",
       "version_major": 2,
       "version_minor": 0
      },
      "text/plain": [
       "HBox(children=(FloatProgress(value=0.0, description='al loop', max=4.0, style=ProgressStyle(description_width=…"
      ]
     },
     "metadata": {},
     "output_type": "display_data"
    },
    {
     "data": {
      "application/vnd.jupyter.widget-view+json": {
       "model_id": "b35d1b116c2840e4a7a93db43c645a9e",
       "version_major": 2,
       "version_minor": 0
      },
      "text/plain": [
       "HBox(children=(FloatProgress(value=0.0, description='ar loop', max=4.0, style=ProgressStyle(description_width=…"
      ]
     },
     "metadata": {},
     "output_type": "display_data"
    },
    {
     "name": "stdout",
     "output_type": "stream",
     "text": [
      "\n"
     ]
    },
    {
     "data": {
      "application/vnd.jupyter.widget-view+json": {
       "model_id": "a5e0e6344f6f4e0c9d4d9ef8df4bcc6f",
       "version_major": 2,
       "version_minor": 0
      },
      "text/plain": [
       "HBox(children=(FloatProgress(value=0.0, description='ar loop', max=4.0, style=ProgressStyle(description_width=…"
      ]
     },
     "metadata": {},
     "output_type": "display_data"
    },
    {
     "name": "stdout",
     "output_type": "stream",
     "text": [
      "\n"
     ]
    },
    {
     "data": {
      "application/vnd.jupyter.widget-view+json": {
       "model_id": "69c2e5f6074f4767867bb96a9e0373d1",
       "version_major": 2,
       "version_minor": 0
      },
      "text/plain": [
       "HBox(children=(FloatProgress(value=0.0, description='ar loop', max=4.0, style=ProgressStyle(description_width=…"
      ]
     },
     "metadata": {},
     "output_type": "display_data"
    },
    {
     "name": "stdout",
     "output_type": "stream",
     "text": [
      "\n"
     ]
    },
    {
     "data": {
      "application/vnd.jupyter.widget-view+json": {
       "model_id": "30bca8c897344f399cdc8932344f77d1",
       "version_major": 2,
       "version_minor": 0
      },
      "text/plain": [
       "HBox(children=(FloatProgress(value=0.0, description='ar loop', max=4.0, style=ProgressStyle(description_width=…"
      ]
     },
     "metadata": {},
     "output_type": "display_data"
    },
    {
     "name": "stdout",
     "output_type": "stream",
     "text": [
      "\n",
      "\n"
     ]
    },
    {
     "data": {
      "application/vnd.plotly.v1+json": {
       "config": {
        "plotlyServerURL": "https://plot.ly"
       },
       "data": [
        {
         "mode": "lines+markers",
         "name": "rectangular",
         "type": "scatter",
         "x": [
          2,
          12,
          22,
          32,
          42,
          52,
          62,
          72,
          82,
          92,
          102
         ],
         "y": [
          11.5745,
          7.965,
          7.118,
          6.543,
          6.2455,
          5.976,
          5.784,
          5.5865,
          5.427,
          5.3235,
          5.218
         ]
        },
        {
         "mode": "lines+markers",
         "name": "triangular",
         "type": "scatter",
         "x": [
          2,
          12,
          22,
          32,
          42,
          52,
          62,
          72,
          82,
          92,
          102
         ],
         "y": [
          12.401,
          11.496,
          10.882,
          10.4575,
          10.199000000000002,
          9.912,
          9.686499999999999,
          9.564,
          9.4205,
          9.2425,
          9.1265
         ]
        },
        {
         "mode": "lines+markers",
         "name": "parabolic",
         "type": "scatter",
         "x": [
          2,
          12,
          22,
          32,
          42,
          52,
          62,
          72,
          82,
          92,
          102
         ],
         "y": [
          12.1395,
          9.8355,
          8.9085,
          8.4795,
          7.988,
          7.711499999999999,
          7.5105,
          7.339499999999999,
          7.1385000000000005,
          6.976,
          6.8425
         ]
        },
        {
         "mode": "lines+markers",
         "name": "gaussian",
         "type": "scatter",
         "x": [
          2,
          12,
          22,
          32,
          42,
          52,
          62,
          72,
          82,
          92,
          102
         ],
         "y": [
          8.572,
          6.71,
          6.322,
          6.155,
          5.997999999999999,
          5.920999999999999,
          5.8309999999999995,
          5.7515,
          5.663,
          5.660500000000001,
          5.5440000000000005
         ]
        },
        {
         "mode": "lines+markers",
         "name": "exponential",
         "type": "scatter",
         "x": [
          2,
          12,
          22,
          32,
          42,
          52,
          62,
          72,
          82,
          92,
          102
         ],
         "y": [
          7.802,
          4.593,
          3.7455,
          3.2795,
          2.9735,
          2.731,
          2.542,
          2.4045,
          2.2779999999999996,
          2.1704999999999997,
          2.0735
         ]
        },
        {
         "mode": "lines+markers",
         "name": "random_noise",
         "type": "scatter",
         "x": [
          2,
          12,
          22,
          32,
          42,
          52,
          62,
          72,
          82,
          92,
          102
         ],
         "y": [
          12.1405,
          6.108499999999999,
          5.4510000000000005,
          4.9735,
          4.668,
          4.404,
          3.1705,
          3.1574999999999998,
          3.979,
          2.9299999999999997,
          3.1115000000000004
         ]
        }
       ],
       "layout": {
        "template": {
         "data": {
          "bar": [
           {
            "error_x": {
             "color": "#2a3f5f"
            },
            "error_y": {
             "color": "#2a3f5f"
            },
            "marker": {
             "line": {
              "color": "#E5ECF6",
              "width": 0.5
             }
            },
            "type": "bar"
           }
          ],
          "barpolar": [
           {
            "marker": {
             "line": {
              "color": "#E5ECF6",
              "width": 0.5
             }
            },
            "type": "barpolar"
           }
          ],
          "carpet": [
           {
            "aaxis": {
             "endlinecolor": "#2a3f5f",
             "gridcolor": "white",
             "linecolor": "white",
             "minorgridcolor": "white",
             "startlinecolor": "#2a3f5f"
            },
            "baxis": {
             "endlinecolor": "#2a3f5f",
             "gridcolor": "white",
             "linecolor": "white",
             "minorgridcolor": "white",
             "startlinecolor": "#2a3f5f"
            },
            "type": "carpet"
           }
          ],
          "choropleth": [
           {
            "colorbar": {
             "outlinewidth": 0,
             "ticks": ""
            },
            "type": "choropleth"
           }
          ],
          "contour": [
           {
            "colorbar": {
             "outlinewidth": 0,
             "ticks": ""
            },
            "colorscale": [
             [
              0,
              "#0d0887"
             ],
             [
              0.1111111111111111,
              "#46039f"
             ],
             [
              0.2222222222222222,
              "#7201a8"
             ],
             [
              0.3333333333333333,
              "#9c179e"
             ],
             [
              0.4444444444444444,
              "#bd3786"
             ],
             [
              0.5555555555555556,
              "#d8576b"
             ],
             [
              0.6666666666666666,
              "#ed7953"
             ],
             [
              0.7777777777777778,
              "#fb9f3a"
             ],
             [
              0.8888888888888888,
              "#fdca26"
             ],
             [
              1,
              "#f0f921"
             ]
            ],
            "type": "contour"
           }
          ],
          "contourcarpet": [
           {
            "colorbar": {
             "outlinewidth": 0,
             "ticks": ""
            },
            "type": "contourcarpet"
           }
          ],
          "heatmap": [
           {
            "colorbar": {
             "outlinewidth": 0,
             "ticks": ""
            },
            "colorscale": [
             [
              0,
              "#0d0887"
             ],
             [
              0.1111111111111111,
              "#46039f"
             ],
             [
              0.2222222222222222,
              "#7201a8"
             ],
             [
              0.3333333333333333,
              "#9c179e"
             ],
             [
              0.4444444444444444,
              "#bd3786"
             ],
             [
              0.5555555555555556,
              "#d8576b"
             ],
             [
              0.6666666666666666,
              "#ed7953"
             ],
             [
              0.7777777777777778,
              "#fb9f3a"
             ],
             [
              0.8888888888888888,
              "#fdca26"
             ],
             [
              1,
              "#f0f921"
             ]
            ],
            "type": "heatmap"
           }
          ],
          "heatmapgl": [
           {
            "colorbar": {
             "outlinewidth": 0,
             "ticks": ""
            },
            "colorscale": [
             [
              0,
              "#0d0887"
             ],
             [
              0.1111111111111111,
              "#46039f"
             ],
             [
              0.2222222222222222,
              "#7201a8"
             ],
             [
              0.3333333333333333,
              "#9c179e"
             ],
             [
              0.4444444444444444,
              "#bd3786"
             ],
             [
              0.5555555555555556,
              "#d8576b"
             ],
             [
              0.6666666666666666,
              "#ed7953"
             ],
             [
              0.7777777777777778,
              "#fb9f3a"
             ],
             [
              0.8888888888888888,
              "#fdca26"
             ],
             [
              1,
              "#f0f921"
             ]
            ],
            "type": "heatmapgl"
           }
          ],
          "histogram": [
           {
            "marker": {
             "colorbar": {
              "outlinewidth": 0,
              "ticks": ""
             }
            },
            "type": "histogram"
           }
          ],
          "histogram2d": [
           {
            "colorbar": {
             "outlinewidth": 0,
             "ticks": ""
            },
            "colorscale": [
             [
              0,
              "#0d0887"
             ],
             [
              0.1111111111111111,
              "#46039f"
             ],
             [
              0.2222222222222222,
              "#7201a8"
             ],
             [
              0.3333333333333333,
              "#9c179e"
             ],
             [
              0.4444444444444444,
              "#bd3786"
             ],
             [
              0.5555555555555556,
              "#d8576b"
             ],
             [
              0.6666666666666666,
              "#ed7953"
             ],
             [
              0.7777777777777778,
              "#fb9f3a"
             ],
             [
              0.8888888888888888,
              "#fdca26"
             ],
             [
              1,
              "#f0f921"
             ]
            ],
            "type": "histogram2d"
           }
          ],
          "histogram2dcontour": [
           {
            "colorbar": {
             "outlinewidth": 0,
             "ticks": ""
            },
            "colorscale": [
             [
              0,
              "#0d0887"
             ],
             [
              0.1111111111111111,
              "#46039f"
             ],
             [
              0.2222222222222222,
              "#7201a8"
             ],
             [
              0.3333333333333333,
              "#9c179e"
             ],
             [
              0.4444444444444444,
              "#bd3786"
             ],
             [
              0.5555555555555556,
              "#d8576b"
             ],
             [
              0.6666666666666666,
              "#ed7953"
             ],
             [
              0.7777777777777778,
              "#fb9f3a"
             ],
             [
              0.8888888888888888,
              "#fdca26"
             ],
             [
              1,
              "#f0f921"
             ]
            ],
            "type": "histogram2dcontour"
           }
          ],
          "mesh3d": [
           {
            "colorbar": {
             "outlinewidth": 0,
             "ticks": ""
            },
            "type": "mesh3d"
           }
          ],
          "parcoords": [
           {
            "line": {
             "colorbar": {
              "outlinewidth": 0,
              "ticks": ""
             }
            },
            "type": "parcoords"
           }
          ],
          "pie": [
           {
            "automargin": true,
            "type": "pie"
           }
          ],
          "scatter": [
           {
            "marker": {
             "colorbar": {
              "outlinewidth": 0,
              "ticks": ""
             }
            },
            "type": "scatter"
           }
          ],
          "scatter3d": [
           {
            "line": {
             "colorbar": {
              "outlinewidth": 0,
              "ticks": ""
             }
            },
            "marker": {
             "colorbar": {
              "outlinewidth": 0,
              "ticks": ""
             }
            },
            "type": "scatter3d"
           }
          ],
          "scattercarpet": [
           {
            "marker": {
             "colorbar": {
              "outlinewidth": 0,
              "ticks": ""
             }
            },
            "type": "scattercarpet"
           }
          ],
          "scattergeo": [
           {
            "marker": {
             "colorbar": {
              "outlinewidth": 0,
              "ticks": ""
             }
            },
            "type": "scattergeo"
           }
          ],
          "scattergl": [
           {
            "marker": {
             "colorbar": {
              "outlinewidth": 0,
              "ticks": ""
             }
            },
            "type": "scattergl"
           }
          ],
          "scattermapbox": [
           {
            "marker": {
             "colorbar": {
              "outlinewidth": 0,
              "ticks": ""
             }
            },
            "type": "scattermapbox"
           }
          ],
          "scatterpolar": [
           {
            "marker": {
             "colorbar": {
              "outlinewidth": 0,
              "ticks": ""
             }
            },
            "type": "scatterpolar"
           }
          ],
          "scatterpolargl": [
           {
            "marker": {
             "colorbar": {
              "outlinewidth": 0,
              "ticks": ""
             }
            },
            "type": "scatterpolargl"
           }
          ],
          "scatterternary": [
           {
            "marker": {
             "colorbar": {
              "outlinewidth": 0,
              "ticks": ""
             }
            },
            "type": "scatterternary"
           }
          ],
          "surface": [
           {
            "colorbar": {
             "outlinewidth": 0,
             "ticks": ""
            },
            "colorscale": [
             [
              0,
              "#0d0887"
             ],
             [
              0.1111111111111111,
              "#46039f"
             ],
             [
              0.2222222222222222,
              "#7201a8"
             ],
             [
              0.3333333333333333,
              "#9c179e"
             ],
             [
              0.4444444444444444,
              "#bd3786"
             ],
             [
              0.5555555555555556,
              "#d8576b"
             ],
             [
              0.6666666666666666,
              "#ed7953"
             ],
             [
              0.7777777777777778,
              "#fb9f3a"
             ],
             [
              0.8888888888888888,
              "#fdca26"
             ],
             [
              1,
              "#f0f921"
             ]
            ],
            "type": "surface"
           }
          ],
          "table": [
           {
            "cells": {
             "fill": {
              "color": "#EBF0F8"
             },
             "line": {
              "color": "white"
             }
            },
            "header": {
             "fill": {
              "color": "#C8D4E3"
             },
             "line": {
              "color": "white"
             }
            },
            "type": "table"
           }
          ]
         },
         "layout": {
          "annotationdefaults": {
           "arrowcolor": "#2a3f5f",
           "arrowhead": 0,
           "arrowwidth": 1
          },
          "coloraxis": {
           "colorbar": {
            "outlinewidth": 0,
            "ticks": ""
           }
          },
          "colorscale": {
           "diverging": [
            [
             0,
             "#8e0152"
            ],
            [
             0.1,
             "#c51b7d"
            ],
            [
             0.2,
             "#de77ae"
            ],
            [
             0.3,
             "#f1b6da"
            ],
            [
             0.4,
             "#fde0ef"
            ],
            [
             0.5,
             "#f7f7f7"
            ],
            [
             0.6,
             "#e6f5d0"
            ],
            [
             0.7,
             "#b8e186"
            ],
            [
             0.8,
             "#7fbc41"
            ],
            [
             0.9,
             "#4d9221"
            ],
            [
             1,
             "#276419"
            ]
           ],
           "sequential": [
            [
             0,
             "#0d0887"
            ],
            [
             0.1111111111111111,
             "#46039f"
            ],
            [
             0.2222222222222222,
             "#7201a8"
            ],
            [
             0.3333333333333333,
             "#9c179e"
            ],
            [
             0.4444444444444444,
             "#bd3786"
            ],
            [
             0.5555555555555556,
             "#d8576b"
            ],
            [
             0.6666666666666666,
             "#ed7953"
            ],
            [
             0.7777777777777778,
             "#fb9f3a"
            ],
            [
             0.8888888888888888,
             "#fdca26"
            ],
            [
             1,
             "#f0f921"
            ]
           ],
           "sequentialminus": [
            [
             0,
             "#0d0887"
            ],
            [
             0.1111111111111111,
             "#46039f"
            ],
            [
             0.2222222222222222,
             "#7201a8"
            ],
            [
             0.3333333333333333,
             "#9c179e"
            ],
            [
             0.4444444444444444,
             "#bd3786"
            ],
            [
             0.5555555555555556,
             "#d8576b"
            ],
            [
             0.6666666666666666,
             "#ed7953"
            ],
            [
             0.7777777777777778,
             "#fb9f3a"
            ],
            [
             0.8888888888888888,
             "#fdca26"
            ],
            [
             1,
             "#f0f921"
            ]
           ]
          },
          "colorway": [
           "#636efa",
           "#EF553B",
           "#00cc96",
           "#ab63fa",
           "#FFA15A",
           "#19d3f3",
           "#FF6692",
           "#B6E880",
           "#FF97FF",
           "#FECB52"
          ],
          "font": {
           "color": "#2a3f5f"
          },
          "geo": {
           "bgcolor": "white",
           "lakecolor": "white",
           "landcolor": "#E5ECF6",
           "showlakes": true,
           "showland": true,
           "subunitcolor": "white"
          },
          "hoverlabel": {
           "align": "left"
          },
          "hovermode": "closest",
          "mapbox": {
           "style": "light"
          },
          "paper_bgcolor": "white",
          "plot_bgcolor": "#E5ECF6",
          "polar": {
           "angularaxis": {
            "gridcolor": "white",
            "linecolor": "white",
            "ticks": ""
           },
           "bgcolor": "#E5ECF6",
           "radialaxis": {
            "gridcolor": "white",
            "linecolor": "white",
            "ticks": ""
           }
          },
          "scene": {
           "xaxis": {
            "backgroundcolor": "#E5ECF6",
            "gridcolor": "white",
            "gridwidth": 2,
            "linecolor": "white",
            "showbackground": true,
            "ticks": "",
            "zerolinecolor": "white"
           },
           "yaxis": {
            "backgroundcolor": "#E5ECF6",
            "gridcolor": "white",
            "gridwidth": 2,
            "linecolor": "white",
            "showbackground": true,
            "ticks": "",
            "zerolinecolor": "white"
           },
           "zaxis": {
            "backgroundcolor": "#E5ECF6",
            "gridcolor": "white",
            "gridwidth": 2,
            "linecolor": "white",
            "showbackground": true,
            "ticks": "",
            "zerolinecolor": "white"
           }
          },
          "shapedefaults": {
           "line": {
            "color": "#2a3f5f"
           }
          },
          "ternary": {
           "aaxis": {
            "gridcolor": "white",
            "linecolor": "white",
            "ticks": ""
           },
           "baxis": {
            "gridcolor": "white",
            "linecolor": "white",
            "ticks": ""
           },
           "bgcolor": "#E5ECF6",
           "caxis": {
            "gridcolor": "white",
            "linecolor": "white",
            "ticks": ""
           }
          },
          "title": {
           "x": 0.05
          },
          "xaxis": {
           "automargin": true,
           "gridcolor": "white",
           "linecolor": "white",
           "ticks": "",
           "title": {
            "standoff": 15
           },
           "zerolinecolor": "white",
           "zerolinewidth": 2
          },
          "yaxis": {
           "automargin": true,
           "gridcolor": "white",
           "linecolor": "white",
           "ticks": "",
           "title": {
            "standoff": 15
           },
           "zerolinecolor": "white",
           "zerolinewidth": 2
          }
         }
        },
        "xaxis": {
         "title": {
          "text": "Число измерений K"
         }
        },
        "yaxis": {
         "title": {
          "text": "$ \\text{Оценка погрешности} \\sqrt{E||x_{est} - x||^2}$"
         }
        }
       }
      },
      "text/html": [
       "<div>\n",
       "        \n",
       "        \n",
       "            <div id=\"a01be817-da74-40f6-b645-d8c07bd83ca1\" class=\"plotly-graph-div\" style=\"height:525px; width:100%;\"></div>\n",
       "            <script type=\"text/javascript\">\n",
       "                require([\"plotly\"], function(Plotly) {\n",
       "                    window.PLOTLYENV=window.PLOTLYENV || {};\n",
       "                    \n",
       "                if (document.getElementById(\"a01be817-da74-40f6-b645-d8c07bd83ca1\")) {\n",
       "                    Plotly.newPlot(\n",
       "                        'a01be817-da74-40f6-b645-d8c07bd83ca1',\n",
       "                        [{\"mode\": \"lines+markers\", \"name\": \"rectangular\", \"type\": \"scatter\", \"x\": [2, 12, 22, 32, 42, 52, 62, 72, 82, 92, 102], \"y\": [11.5745, 7.965, 7.118, 6.543, 6.2455, 5.976, 5.784, 5.5865, 5.427, 5.3235, 5.218]}, {\"mode\": \"lines+markers\", \"name\": \"triangular\", \"type\": \"scatter\", \"x\": [2, 12, 22, 32, 42, 52, 62, 72, 82, 92, 102], \"y\": [12.401, 11.496, 10.882, 10.4575, 10.199000000000002, 9.912, 9.686499999999999, 9.564, 9.4205, 9.2425, 9.1265]}, {\"mode\": \"lines+markers\", \"name\": \"parabolic\", \"type\": \"scatter\", \"x\": [2, 12, 22, 32, 42, 52, 62, 72, 82, 92, 102], \"y\": [12.1395, 9.8355, 8.9085, 8.4795, 7.988, 7.711499999999999, 7.5105, 7.339499999999999, 7.1385000000000005, 6.976, 6.8425]}, {\"mode\": \"lines+markers\", \"name\": \"gaussian\", \"type\": \"scatter\", \"x\": [2, 12, 22, 32, 42, 52, 62, 72, 82, 92, 102], \"y\": [8.572, 6.71, 6.322, 6.155, 5.997999999999999, 5.920999999999999, 5.8309999999999995, 5.7515, 5.663, 5.660500000000001, 5.5440000000000005]}, {\"mode\": \"lines+markers\", \"name\": \"exponential\", \"type\": \"scatter\", \"x\": [2, 12, 22, 32, 42, 52, 62, 72, 82, 92, 102], \"y\": [7.802, 4.593, 3.7455, 3.2795, 2.9735, 2.731, 2.542, 2.4045, 2.2779999999999996, 2.1704999999999997, 2.0735]}, {\"mode\": \"lines+markers\", \"name\": \"random_noise\", \"type\": \"scatter\", \"x\": [2, 12, 22, 32, 42, 52, 62, 72, 82, 92, 102], \"y\": [12.1405, 6.108499999999999, 5.4510000000000005, 4.9735, 4.668, 4.404, 3.1705, 3.1574999999999998, 3.979, 2.9299999999999997, 3.1115000000000004]}],\n",
       "                        {\"template\": {\"data\": {\"bar\": [{\"error_x\": {\"color\": \"#2a3f5f\"}, \"error_y\": {\"color\": \"#2a3f5f\"}, \"marker\": {\"line\": {\"color\": \"#E5ECF6\", \"width\": 0.5}}, \"type\": \"bar\"}], \"barpolar\": [{\"marker\": {\"line\": {\"color\": \"#E5ECF6\", \"width\": 0.5}}, \"type\": \"barpolar\"}], \"carpet\": [{\"aaxis\": {\"endlinecolor\": \"#2a3f5f\", \"gridcolor\": \"white\", \"linecolor\": \"white\", \"minorgridcolor\": \"white\", \"startlinecolor\": \"#2a3f5f\"}, \"baxis\": {\"endlinecolor\": \"#2a3f5f\", \"gridcolor\": \"white\", \"linecolor\": \"white\", \"minorgridcolor\": \"white\", \"startlinecolor\": \"#2a3f5f\"}, \"type\": \"carpet\"}], \"choropleth\": [{\"colorbar\": {\"outlinewidth\": 0, \"ticks\": \"\"}, \"type\": \"choropleth\"}], \"contour\": [{\"colorbar\": {\"outlinewidth\": 0, \"ticks\": \"\"}, \"colorscale\": [[0.0, \"#0d0887\"], [0.1111111111111111, \"#46039f\"], [0.2222222222222222, \"#7201a8\"], [0.3333333333333333, \"#9c179e\"], [0.4444444444444444, \"#bd3786\"], [0.5555555555555556, \"#d8576b\"], [0.6666666666666666, \"#ed7953\"], [0.7777777777777778, \"#fb9f3a\"], [0.8888888888888888, \"#fdca26\"], [1.0, \"#f0f921\"]], \"type\": \"contour\"}], \"contourcarpet\": [{\"colorbar\": {\"outlinewidth\": 0, \"ticks\": \"\"}, \"type\": \"contourcarpet\"}], \"heatmap\": [{\"colorbar\": {\"outlinewidth\": 0, \"ticks\": \"\"}, \"colorscale\": [[0.0, \"#0d0887\"], [0.1111111111111111, \"#46039f\"], [0.2222222222222222, \"#7201a8\"], [0.3333333333333333, \"#9c179e\"], [0.4444444444444444, \"#bd3786\"], [0.5555555555555556, \"#d8576b\"], [0.6666666666666666, \"#ed7953\"], [0.7777777777777778, \"#fb9f3a\"], [0.8888888888888888, \"#fdca26\"], [1.0, \"#f0f921\"]], \"type\": \"heatmap\"}], \"heatmapgl\": [{\"colorbar\": {\"outlinewidth\": 0, \"ticks\": \"\"}, \"colorscale\": [[0.0, \"#0d0887\"], [0.1111111111111111, \"#46039f\"], [0.2222222222222222, \"#7201a8\"], [0.3333333333333333, \"#9c179e\"], [0.4444444444444444, \"#bd3786\"], [0.5555555555555556, \"#d8576b\"], [0.6666666666666666, \"#ed7953\"], [0.7777777777777778, \"#fb9f3a\"], [0.8888888888888888, \"#fdca26\"], [1.0, \"#f0f921\"]], \"type\": \"heatmapgl\"}], \"histogram\": [{\"marker\": {\"colorbar\": {\"outlinewidth\": 0, \"ticks\": \"\"}}, \"type\": \"histogram\"}], \"histogram2d\": [{\"colorbar\": {\"outlinewidth\": 0, \"ticks\": \"\"}, \"colorscale\": [[0.0, \"#0d0887\"], [0.1111111111111111, \"#46039f\"], [0.2222222222222222, \"#7201a8\"], [0.3333333333333333, \"#9c179e\"], [0.4444444444444444, \"#bd3786\"], [0.5555555555555556, \"#d8576b\"], [0.6666666666666666, \"#ed7953\"], [0.7777777777777778, \"#fb9f3a\"], [0.8888888888888888, \"#fdca26\"], [1.0, \"#f0f921\"]], \"type\": \"histogram2d\"}], \"histogram2dcontour\": [{\"colorbar\": {\"outlinewidth\": 0, \"ticks\": \"\"}, \"colorscale\": [[0.0, \"#0d0887\"], [0.1111111111111111, \"#46039f\"], [0.2222222222222222, \"#7201a8\"], [0.3333333333333333, \"#9c179e\"], [0.4444444444444444, \"#bd3786\"], [0.5555555555555556, \"#d8576b\"], [0.6666666666666666, \"#ed7953\"], [0.7777777777777778, \"#fb9f3a\"], [0.8888888888888888, \"#fdca26\"], [1.0, \"#f0f921\"]], \"type\": \"histogram2dcontour\"}], \"mesh3d\": [{\"colorbar\": {\"outlinewidth\": 0, \"ticks\": \"\"}, \"type\": \"mesh3d\"}], \"parcoords\": [{\"line\": {\"colorbar\": {\"outlinewidth\": 0, \"ticks\": \"\"}}, \"type\": \"parcoords\"}], \"pie\": [{\"automargin\": true, \"type\": \"pie\"}], \"scatter\": [{\"marker\": {\"colorbar\": {\"outlinewidth\": 0, \"ticks\": \"\"}}, \"type\": \"scatter\"}], \"scatter3d\": [{\"line\": {\"colorbar\": {\"outlinewidth\": 0, \"ticks\": \"\"}}, \"marker\": {\"colorbar\": {\"outlinewidth\": 0, \"ticks\": \"\"}}, \"type\": \"scatter3d\"}], \"scattercarpet\": [{\"marker\": {\"colorbar\": {\"outlinewidth\": 0, \"ticks\": \"\"}}, \"type\": \"scattercarpet\"}], \"scattergeo\": [{\"marker\": {\"colorbar\": {\"outlinewidth\": 0, \"ticks\": \"\"}}, \"type\": \"scattergeo\"}], \"scattergl\": [{\"marker\": {\"colorbar\": {\"outlinewidth\": 0, \"ticks\": \"\"}}, \"type\": \"scattergl\"}], \"scattermapbox\": [{\"marker\": {\"colorbar\": {\"outlinewidth\": 0, \"ticks\": \"\"}}, \"type\": \"scattermapbox\"}], \"scatterpolar\": [{\"marker\": {\"colorbar\": {\"outlinewidth\": 0, \"ticks\": \"\"}}, \"type\": \"scatterpolar\"}], \"scatterpolargl\": [{\"marker\": {\"colorbar\": {\"outlinewidth\": 0, \"ticks\": \"\"}}, \"type\": \"scatterpolargl\"}], \"scatterternary\": [{\"marker\": {\"colorbar\": {\"outlinewidth\": 0, \"ticks\": \"\"}}, \"type\": \"scatterternary\"}], \"surface\": [{\"colorbar\": {\"outlinewidth\": 0, \"ticks\": \"\"}, \"colorscale\": [[0.0, \"#0d0887\"], [0.1111111111111111, \"#46039f\"], [0.2222222222222222, \"#7201a8\"], [0.3333333333333333, \"#9c179e\"], [0.4444444444444444, \"#bd3786\"], [0.5555555555555556, \"#d8576b\"], [0.6666666666666666, \"#ed7953\"], [0.7777777777777778, \"#fb9f3a\"], [0.8888888888888888, \"#fdca26\"], [1.0, \"#f0f921\"]], \"type\": \"surface\"}], \"table\": [{\"cells\": {\"fill\": {\"color\": \"#EBF0F8\"}, \"line\": {\"color\": \"white\"}}, \"header\": {\"fill\": {\"color\": \"#C8D4E3\"}, \"line\": {\"color\": \"white\"}}, \"type\": \"table\"}]}, \"layout\": {\"annotationdefaults\": {\"arrowcolor\": \"#2a3f5f\", \"arrowhead\": 0, \"arrowwidth\": 1}, \"coloraxis\": {\"colorbar\": {\"outlinewidth\": 0, \"ticks\": \"\"}}, \"colorscale\": {\"diverging\": [[0, \"#8e0152\"], [0.1, \"#c51b7d\"], [0.2, \"#de77ae\"], [0.3, \"#f1b6da\"], [0.4, \"#fde0ef\"], [0.5, \"#f7f7f7\"], [0.6, \"#e6f5d0\"], [0.7, \"#b8e186\"], [0.8, \"#7fbc41\"], [0.9, \"#4d9221\"], [1, \"#276419\"]], \"sequential\": [[0.0, \"#0d0887\"], [0.1111111111111111, \"#46039f\"], [0.2222222222222222, \"#7201a8\"], [0.3333333333333333, \"#9c179e\"], [0.4444444444444444, \"#bd3786\"], [0.5555555555555556, \"#d8576b\"], [0.6666666666666666, \"#ed7953\"], [0.7777777777777778, \"#fb9f3a\"], [0.8888888888888888, \"#fdca26\"], [1.0, \"#f0f921\"]], \"sequentialminus\": [[0.0, \"#0d0887\"], [0.1111111111111111, \"#46039f\"], [0.2222222222222222, \"#7201a8\"], [0.3333333333333333, \"#9c179e\"], [0.4444444444444444, \"#bd3786\"], [0.5555555555555556, \"#d8576b\"], [0.6666666666666666, \"#ed7953\"], [0.7777777777777778, \"#fb9f3a\"], [0.8888888888888888, \"#fdca26\"], [1.0, \"#f0f921\"]]}, \"colorway\": [\"#636efa\", \"#EF553B\", \"#00cc96\", \"#ab63fa\", \"#FFA15A\", \"#19d3f3\", \"#FF6692\", \"#B6E880\", \"#FF97FF\", \"#FECB52\"], \"font\": {\"color\": \"#2a3f5f\"}, \"geo\": {\"bgcolor\": \"white\", \"lakecolor\": \"white\", \"landcolor\": \"#E5ECF6\", \"showlakes\": true, \"showland\": true, \"subunitcolor\": \"white\"}, \"hoverlabel\": {\"align\": \"left\"}, \"hovermode\": \"closest\", \"mapbox\": {\"style\": \"light\"}, \"paper_bgcolor\": \"white\", \"plot_bgcolor\": \"#E5ECF6\", \"polar\": {\"angularaxis\": {\"gridcolor\": \"white\", \"linecolor\": \"white\", \"ticks\": \"\"}, \"bgcolor\": \"#E5ECF6\", \"radialaxis\": {\"gridcolor\": \"white\", \"linecolor\": \"white\", \"ticks\": \"\"}}, \"scene\": {\"xaxis\": {\"backgroundcolor\": \"#E5ECF6\", \"gridcolor\": \"white\", \"gridwidth\": 2, \"linecolor\": \"white\", \"showbackground\": true, \"ticks\": \"\", \"zerolinecolor\": \"white\"}, \"yaxis\": {\"backgroundcolor\": \"#E5ECF6\", \"gridcolor\": \"white\", \"gridwidth\": 2, \"linecolor\": \"white\", \"showbackground\": true, \"ticks\": \"\", \"zerolinecolor\": \"white\"}, \"zaxis\": {\"backgroundcolor\": \"#E5ECF6\", \"gridcolor\": \"white\", \"gridwidth\": 2, \"linecolor\": \"white\", \"showbackground\": true, \"ticks\": \"\", \"zerolinecolor\": \"white\"}}, \"shapedefaults\": {\"line\": {\"color\": \"#2a3f5f\"}}, \"ternary\": {\"aaxis\": {\"gridcolor\": \"white\", \"linecolor\": \"white\", \"ticks\": \"\"}, \"baxis\": {\"gridcolor\": \"white\", \"linecolor\": \"white\", \"ticks\": \"\"}, \"bgcolor\": \"#E5ECF6\", \"caxis\": {\"gridcolor\": \"white\", \"linecolor\": \"white\", \"ticks\": \"\"}}, \"title\": {\"x\": 0.05}, \"xaxis\": {\"automargin\": true, \"gridcolor\": \"white\", \"linecolor\": \"white\", \"ticks\": \"\", \"title\": {\"standoff\": 15}, \"zerolinecolor\": \"white\", \"zerolinewidth\": 2}, \"yaxis\": {\"automargin\": true, \"gridcolor\": \"white\", \"linecolor\": \"white\", \"ticks\": \"\", \"title\": {\"standoff\": 15}, \"zerolinecolor\": \"white\", \"zerolinewidth\": 2}}}, \"xaxis\": {\"title\": {\"text\": \"\\u0427\\u0438\\u0441\\u043b\\u043e \\u0438\\u0437\\u043c\\u0435\\u0440\\u0435\\u043d\\u0438\\u0439 K\"}}, \"yaxis\": {\"title\": {\"text\": \"$ \\\\text{\\u041e\\u0446\\u0435\\u043d\\u043a\\u0430 \\u043f\\u043e\\u0433\\u0440\\u0435\\u0448\\u043d\\u043e\\u0441\\u0442\\u0438} \\\\sqrt{E||x_{est} - x||^2}$\"}}},\n",
       "                        {\"responsive\": true}\n",
       "                    ).then(function(){\n",
       "                            \n",
       "var gd = document.getElementById('a01be817-da74-40f6-b645-d8c07bd83ca1');\n",
       "var x = new MutationObserver(function (mutations, observer) {{\n",
       "        var display = window.getComputedStyle(gd).display;\n",
       "        if (!display || display === 'none') {{\n",
       "            console.log([gd, 'removed!']);\n",
       "            Plotly.purge(gd);\n",
       "            observer.disconnect();\n",
       "        }}\n",
       "}});\n",
       "\n",
       "// Listen for the removal of the full notebook cells\n",
       "var notebookContainer = gd.closest('#notebook-container');\n",
       "if (notebookContainer) {{\n",
       "    x.observe(notebookContainer, {childList: true});\n",
       "}}\n",
       "\n",
       "// Listen for the clearing of the current output cell\n",
       "var outputEl = gd.closest('.output');\n",
       "if (outputEl) {{\n",
       "    x.observe(outputEl, {childList: true});\n",
       "}}\n",
       "\n",
       "                        })\n",
       "                };\n",
       "                });\n",
       "            </script>\n",
       "        </div>"
      ]
     },
     "metadata": {},
     "output_type": "display_data"
    }
   ],
   "source": [
    "# Создаем отдельную папку для png\n",
    "path = str(os.getcwd())+ r\"\\images_new\\ \"+ str(mode.mode)\n",
    "try:\n",
    "    os.mkdir(str(os.getcwd())+ r\"\\images_new\")\n",
    "    os.mkdir(path)\n",
    "except OSError:\n",
    "    shutil.rmtree(path, ignore_errors=True)\n",
    "    os.mkdir(path)\n",
    "\n",
    "    \n",
    "know_sigma = 0\n",
    "sigma = 0.5\n",
    "noise = Noise(know_sigma, sigma)\n",
    "percent = 0\n",
    "\n",
    "# Выбираем режим работы\n",
    "modes = ['usual','missing','advance']\n",
    "bs = 'e 50 \\nr 1 2 3 4 71-76 80 \\nt 15-60'\n",
    "profiles =['rectangular','triangular','parabolic',\\\n",
    "           'gaussian','exponential','random_noise']\n",
    "mode = Mode(modes[0])\n",
    "b = bs\n",
    "\n",
    "\n",
    "apriori = 1\n",
    "calibration = 0\n",
    "change_profile = 0\n",
    "\n",
    "if calibration:\n",
    "    change_profile = 0\n",
    "    \n",
    "Kmax = 12  # До какого числа наблюдений мы считаем\n",
    "Kall = list(range(2,Kmax+1,10)) # Список рассчитаного числа наблюдений\n",
    "lenKall = len(Kall)\n",
    "lprof = len(profiles)\n",
    "\n",
    "for al in tqdm(range(-20,0,5),desc = 'al loop'):\n",
    "    for ar in tqdm(range(20,0,-5), desc ='ar loop'):\n",
    "        # Создаем двумерную матрицу ошибок [число наблюдений, профиль]\n",
    "        Error = np.zeros((lenKall,lprof))\n",
    "        \n",
    "        # Для всех заданных чисел наблюдения\n",
    "        for K in Kall:\n",
    "            t0, T = [0, 2.5]\n",
    "            tau = (T - t0)/K # Временной шаг\n",
    "            t_j = np.arange(t0, T + tau/10, tau) # Временная сетка\n",
    "            \n",
    "            transfer_evolution, conductivity_evolution = False, False\n",
    "            evolution = Evolution(x, transfer_evolution, \n",
    "                                  conductivity_evolution, t0, T, K)\n",
    "\n",
    "            # Для кажого профиля считаем отдельно\n",
    "            for j, profile in enumerate(profiles):\n",
    "                \n",
    "                psf = PSF(profile, al, ar)\n",
    "                mode.get_mode(profile, bs)\n",
    "             \n",
    "                Error_tmp = []; # Список из \"локальных\" ошибок, который мы потом усредним\n",
    "\n",
    "                # Для повышения точности будем использовать среднее арифметическое для ошибок\n",
    "                for i in range(2):\n",
    "                    inf = Information()\n",
    "                    y, alpha = main(x, noise, evolution, apriori, \n",
    "                                    K, psf, mode.mode, inf, b, calibration,\n",
    "                                    change_profile, percent, 0)\n",
    "                    # Объединяем информацию и получаем результат \n",
    "                    Q, x_est = inf.estimation()\n",
    "                    if calibration:\n",
    "                        Q = (alpha + 1/K)*Q\n",
    "                    Error_tmp.append(round(Q.trace()**(1/2), 3));\n",
    "                    \n",
    "                Error[Kall.index(K),j] = np.mean(Error_tmp);\n",
    "       \n",
    "        # Создадим DataFrame для удобства\n",
    "        # Выберем К в качестве индексов\n",
    "        df = pd.DataFrame(data = Error,index = Kall,columns = profiles)\n",
    "        # создаем массив с данными и задаем title для графика и оси x в layout\n",
    "        trace = []\n",
    "        for col in df.columns:\n",
    "            trace.append(go.Scatter(x = Kall, y = df[col],\n",
    "                                    mode = 'lines+markers',\n",
    "                                    name = col)\n",
    "                        )\n",
    "        strapr = 'with_apriori' if apriori else 'without_apriori'\n",
    "        strcalibr = 'with_calibr' if calibration else 'without_calibr'\n",
    "        layout = {#'title': f'{mode.mode}. profile area is {(al,ar)} {strapr} {strcalibr}' ,\n",
    "                  'xaxis': {'title' :'Число измерений K'},\n",
    "                  'yaxis': {'title' :r'$ \\text{Оценка погрешности} \\sqrt{E||x_{est} - x||^2}$'}}\n",
    "\n",
    "        # создаем объект Figure и визуализируем его\n",
    "        fig = go.Figure(data = trace, layout = layout)\n",
    "        # Сохраняем\n",
    "        fig.write_image(path + r'\\ ' + f'{mode.mode}_profile_area_is_{(al,ar)}_{strapr}_{strcalibr}.pdf')\n",
    "fig.show()"
   ]
  },
  {
   "cell_type": "markdown",
   "metadata": {
    "ExecuteTime": {
     "end_time": "2020-07-19T12:03:45.602938Z",
     "start_time": "2020-07-19T12:03:45.587295Z"
    }
   },
   "source": [
    "## Проверка производительности кода и средство оптимизации\n",
    "\n",
    "Используем удобное средство визуализации - snakeviz (об его установке написано на его сайте)"
   ]
  },
  {
   "cell_type": "code",
   "execution_count": 173,
   "metadata": {
    "ExecuteTime": {
     "end_time": "2020-07-20T14:55:14.537601Z",
     "start_time": "2020-07-20T14:55:13.662541Z"
    }
   },
   "outputs": [],
   "source": [
    "# visualizing the output of a profiling session\n",
    "%load_ext snakeviz"
   ]
  },
  {
   "cell_type": "code",
   "execution_count": 257,
   "metadata": {
    "ExecuteTime": {
     "end_time": "2020-07-20T15:53:17.673822Z",
     "start_time": "2020-07-20T15:53:10.704960Z"
    }
   },
   "outputs": [
    {
     "name": "stdout",
     "output_type": "stream",
     "text": [
      " \n",
      "*** Profile stats marshalled to file 'C:\\\\Users\\\\GOVOR_~1\\\\AppData\\\\Local\\\\Temp\\\\tmpvsb38cyl'. \n",
      "Embedding SnakeViz in this document...\n"
     ]
    },
    {
     "data": {
      "text/html": [
       "\n",
       "<iframe id='snakeviz-1efbbdb6-caa1-11ea-98a7-206a8a1e359e' frameborder=0 seamless width='100%' height='1000'></iframe>\n",
       "<script>document.getElementById(\"snakeviz-1efbbdb6-caa1-11ea-98a7-206a8a1e359e\").setAttribute(\"src\", \"http://\" + document.location.hostname + \":8080/snakeviz/C%3A%5CUsers%5CGOVOR_~1%5CAppData%5CLocal%5CTemp%5Ctmpvsb38cyl\")</script>\n"
      ],
      "text/plain": [
       "<IPython.core.display.HTML object>"
      ]
     },
     "metadata": {},
     "output_type": "display_data"
    }
   ],
   "source": [
    "%%snakeviz\n",
    "\n",
    "know_sigma = 0\n",
    "sigma = 0.5\n",
    "noise = Noise(know_sigma, sigma)\n",
    "\n",
    "\n",
    "apriori = 1\n",
    "calibration = 1\n",
    "change_profile = 1\n",
    "if calibration:\n",
    "    change_profile = 0\n",
    "    \n",
    "# Выбираем режим работы\n",
    "modes = ['usual','missing','advance']\n",
    "bs = 'e 50 \\nr 1 2 3 4 71-76 80 \\nt 15-60'\n",
    "profiles =['rectangular','triangular','parabolic',\\\n",
    "           'gaussian','exponential','random_noise']\n",
    "mode = Mode(modes[0])\n",
    "mode.get_mode(profiles[0], bs)\n",
    "b = bs\n",
    "\n",
    "percent = 0\n",
    "\n",
    "al = -10\n",
    "ar = 10\n",
    "K = 1000\n",
    "psf = PSF(profiles[0], al, ar)\n",
    "    \n",
    "t0, T = [0, 2.5]\n",
    "tau = (T - t0)/K # Временной шаг\n",
    "t_j = np.arange(t0, T + tau/10, tau) # Временная сетка\n",
    "\n",
    "transfer_evolution, conductivity_evolution = False, False\n",
    "evolution = Evolution(x, transfer_evolution, \n",
    "                      conductivity_evolution, t0, T, K)\n",
    "\n",
    "inf = Information() \n",
    "y, alpha = main(t_j, x, noise, evolution, apriori, \n",
    "                K, psf, mode.mode, inf, b, calibration,\n",
    "                change_profile, percent, 0)\n",
    "\n"
   ]
  },
  {
   "cell_type": "markdown",
   "metadata": {},
   "source": [
    "# Дополнение:\n",
    "\n",
    "- При большом времени эволюции сигнал затухает настолько, что величина шума начинает играть решающую роль. Как попробовать этот момент обойти?(Добавить свертку или фильтр на сильно зашумленное измерение ( или же нейронки) )"
   ]
  },
  {
   "cell_type": "markdown",
   "metadata": {},
   "source": [
    "## Виджеты для альтернативной панели управления"
   ]
  },
  {
   "cell_type": "code",
   "execution_count": 82,
   "metadata": {
    "ExecuteTime": {
     "end_time": "2020-07-19T12:13:48.765384Z",
     "start_time": "2020-07-19T12:13:48.327892Z"
    }
   },
   "outputs": [
    {
     "data": {
      "application/vnd.jupyter.widget-view+json": {
       "model_id": "d1cfbe5c9e934a069b58375b8fff7be9",
       "version_major": 2,
       "version_minor": 0
      },
      "text/plain": [
       "Tab(children=(VBox(children=(VBox(children=(Checkbox(value=True, description='apriori'), Checkbox(value=False,…"
      ]
     },
     "metadata": {},
     "output_type": "display_data"
    }
   ],
   "source": [
    "def get_widgets():\n",
    "    T = False\n",
    "    freedom_items =[Checkbox(value=True, description='apriori',\n",
    "                             disabled=False),\n",
    "                Checkbox(value=False, description='calibration',\n",
    "                             disabled=False),\n",
    "                Checkbox(value=True, description='Know sigma of noise',\n",
    "                             disabled=False),\n",
    "                IntSlider(min=1, max=200, continuous_update=False, description=\"Кол-во измерений K: \", value=1)\n",
    "               ]\n",
    "    Points_b = Textarea(value='50 \\n 1 2 3 4 71-76 80 \\n 15-20', description='Points of measurements:',\n",
    "                        disabled=False,style={'description_width': 'initial'}) \n",
    "\n",
    "    \n",
    "    evolution_box = [\n",
    "        Checkbox(value=True, description='evolution of signal', disabled=False),\n",
    "        FloatSlider(min=0.1, max=2.5, step=0.1, continuous_update=False, description=\"Время эволюции J: \", value=1.5)]\n",
    "    smooth_box = [\n",
    "        Checkbox(value=False, description='smooth', disabled=False),\n",
    "        FloatSlider(min=0, max=1, step=0.02, continuous_update=False, description=\"factor: \", value=0.1)]\n",
    "    PSF_box = [\n",
    "        Dropdown(options=['rectangular','triangular','parabolic',\n",
    "                          'gaussian','exponential','random_noise'], description=\"Profile of PSF: \"),\n",
    "        Checkbox(value=False, description='random (al,ar)',\n",
    "                                 disabled=False),\n",
    "        IntRangeSlider(value=[-10, 10], min=-20, max=20, step=1, description='[al,ar]:', \n",
    "                            continuous_update=False, orientation='horizontal')]\n",
    "    accordion_usual = widgets.Accordion(children=[widgets.VBox(PSF_box),\n",
    "                                                  widgets.VBox(evolution_box), \n",
    "                                                  widgets.VBox(smooth_box)])\n",
    "    accordion_usual.set_title(0,'PSF')\n",
    "    accordion_usual.set_title(1,'evolution')\n",
    "    accordion_usual.set_title(2,'smooth')\n",
    "    usual_widgets = widgets.VBox([widgets.VBox(freedom_items),accordion_usual])\n",
    "    \n",
    "    accordion_missing = widgets.Accordion(children=[widgets.VBox(PSF_box)])\n",
    "    accordion_missing.set_title(0,'PSF')\n",
    "    missing_widgets = widgets.VBox([widgets.VBox(freedom_items),accordion_missing])\n",
    "    \n",
    "    accordion_advance = widgets.Accordion(children=[widgets.VBox(PSF_box),Points_b])\n",
    "    accordion_advance.set_title(0,'PSF')\n",
    "    accordion_advance.set_title(1,'Points of measurements')\n",
    "    advance_widgets = widgets.VBox([widgets.VBox(freedom_items),accordion_advance])\n",
    "    \n",
    "    tab_contents = ['P0','P1','P2']\n",
    "    modes = ['usual','missing','advance']\n",
    "    children = [usual_widgets, missing_widgets, advance_widgets]\n",
    "    \n",
    "    tab = widgets.Tab()\n",
    "    tab.children = children\n",
    "    for i, _ in enumerate(children):\n",
    "        tab.set_title(i,modes[i])\n",
    "    return tab\n",
    "\n",
    "tab = get_widgets()\n",
    "\n",
    "tab"
   ]
  },
  {
   "cell_type": "code",
   "execution_count": 83,
   "metadata": {
    "ExecuteTime": {
     "end_time": "2020-07-19T12:13:56.665446Z",
     "start_time": "2020-07-19T12:13:56.462319Z"
    }
   },
   "outputs": [],
   "source": [
    "mode_drop    = Dropdown(options=['usual','missing','advance'], description=\"Mode: \")\n",
    "profile_drop = Dropdown(options=['rectangular','triangular','parabolic',\n",
    "                                 'gaussian','exponential','random_noise'], description=\"Profile of PSF: \")\n",
    "\n",
    "apriori_check     = Checkbox(value=True , description='apriori',            disabled=False)\n",
    "calibration_check = Checkbox(value=False, description='calibration',        disabled=False)\n",
    "outtext_check     = Checkbox(value=False, description='random (al,ar)',     disabled=False)\n",
    "know_sigma_check  = Checkbox(value=True, description='Know sigma of noise', disabled=False)\n",
    "evolution_check   = Checkbox(value=True, description='evolution of signal', disabled=False)\n",
    "smooth_check      = Checkbox(value=True, description='smooth',             disabled=False)\n",
    "\n",
    "smooth_factor_slide = FloatSlider(min=0,   max=1,   step=0.02, continuous_update=False,\n",
    "                                  description=\"factor: \", value=0.1,disabled = not smooth_check.value)\n",
    "Time_slide          = FloatSlider(min=0.1, max=2.5, step=0.1,  continuous_update=False,\n",
    "                                  description=\"Время эволюции J: \", value=1.5)\n",
    "\n",
    "K_slide = IntSlider(min=1, max=200, continuous_update=False, description=\"Кол-во измерений K: \", value=1)\n",
    "\n",
    "a_range_slide = IntRangeSlider(value=[-10, 10], min=-20, max=20, step=1, description='[al,ar]:', \n",
    "                        continuous_update=False, orientation='horizontal')\n",
    "bs_text = Textarea(value='50 \\n 1 2 3 4 71-76 80 \\n 15-20', description='Points of measurements:',\n",
    "                        disabled=False,style={'description_width': 'initial'})"
   ]
  },
  {
   "cell_type": "markdown",
   "metadata": {},
   "source": [
    "## Матрица измерительного прибора как одномерная свертка"
   ]
  },
  {
   "cell_type": "markdown",
   "metadata": {},
   "source": [
    "Получение элемента измерения по своей сути является сверткой:\n",
    "\n",
    "$$\n",
    "y_k = \\sum_{i = al}^{ar} a_i x_{k-i}\n",
    "$$\n",
    "\n",
    "Пусть для начала $|al| =|ar| = w.$ Тогда  \n",
    "\n",
    "$$\n",
    "y_k = \\sum_{i = -w}^{w} a_i x_{k-i} = \\sum_{i = -w}^{w} a_{} x_{k-i}  \n",
    "$$\n",
    "\n",
    "Рассмотрим процесс избавления измерения от шума с помощью фильтрации (из теории обработки радиосигналов или изображений). Сгенерируем произвольный сигнал. Для простоты будем его считать измерением. Зашумим его и произведем его \"эволюцию\",для простоты, просто уменьшив амплитуду исходного сигнала на 90%."
   ]
  },
  {
   "cell_type": "code",
   "execution_count": 57,
   "metadata": {
    "ExecuteTime": {
     "end_time": "2020-07-21T11:42:04.342848Z",
     "start_time": "2020-07-21T11:42:03.827259Z"
    }
   },
   "outputs": [
    {
     "data": {
      "image/png": "[encoded data removed]",
      "text/plain": [
       "<Figure size 432x288 with 1 Axes>"
      ]
     },
     "metadata": {
      "needs_background": "light"
     },
     "output_type": "display_data"
    },
    {
     "data": {
      "image/png": "[encoded data removed]",
      "text/plain": [
       "<Figure size 432x288 with 1 Axes>"
      ]
     },
     "metadata": {
      "needs_background": "light"
     },
     "output_type": "display_data"
    }
   ],
   "source": [
    "plt.plot([i for i in range(N)], x, \\\n",
    "                  **{'linewidth' : 2, 'color' : 'blue', 'label' : 'x'});\n",
    "plt.title('Исходное измерение')\n",
    "z = x + np.random.normal(0, 5, N)\n",
    "plt.figure()\n",
    "plt.plot([i for i in range(N)], z, \\\n",
    "                  **{'linewidth' : 2, 'color' : 'blue', 'label' : 'x'});\n",
    "plt.title('Зашумленное и затухшее исходное измерение');"
   ]
  },
  {
   "cell_type": "markdown",
   "metadata": {},
   "source": [
    "Создадим фильтр (одномерную свертку), через который пропустим \"зашумленный\" и эвлюционированный сигнал, который в теории должен \"восстановить\" (приблизить) его до исходного. \n",
    "\n",
    "- Я не уверен, какие фильтры лучше использовать, поэтому использовал пока что только один [фильтр для изображений (стр 46)](http://www.lib.uniyar.ac.ru/edocs/iuni/20060713.pdf), но в одномерном случае (для изображений при разных Q были разные фильтры, но здесь они почему-то не работают). + Различные виды padding не показали лучших результатов по сравнению с нулевым.\n",
    "- Вместо этого я решил попробовать найти коэффициенты (ядро свертки) через нейронную сеть, и этот подход вылился в отдельный блок"
   ]
  },
  {
   "cell_type": "code",
   "execution_count": 58,
   "metadata": {
    "ExecuteTime": {
     "end_time": "2020-07-21T11:42:19.014901Z",
     "start_time": "2020-07-21T11:42:18.030513Z"
    }
   },
   "outputs": [
    {
     "name": "stdout",
     "output_type": "stream",
     "text": [
      "[-1, 1]\n",
      "214.56810108663822\n",
      "[-1, 1]\n",
      "208.83187421583415\n",
      "[-1, 1]\n",
      "208.83187421583415\n",
      "[-1, 1]\n",
      "208.83187421583415\n",
      "[-1, 1]\n",
      "208.83187421583415\n",
      "Исходная sum of |z - x| =  361.7193173124071\n",
      "sum of |result - x| =  208.83187421583415\n"
     ]
    },
    {
     "data": {
      "image/png": "[encoded data removed]",
      "text/plain": [
       "<Figure size 432x288 with 1 Axes>"
      ]
     },
     "metadata": {
      "needs_background": "light"
     },
     "output_type": "display_data"
    },
    {
     "data": {
      "image/png": "[encoded data removed]",
      "text/plain": [
       "<Figure size 432x288 with 1 Axes>"
      ]
     },
     "metadata": {
      "needs_background": "light"
     },
     "output_type": "display_data"
    }
   ],
   "source": [
    "def applicate_filter(z):\n",
    "\n",
    "    def measure_filter(z,al,ar,Q):\n",
    "        N = np.size(z)\n",
    "        M = int(N + ar-al);  # Dimension of observed signal y\n",
    "\n",
    "\n",
    "        x_temp = np.zeros(M)\n",
    "        res = np.zeros(N)\n",
    "        z_rev = z.copy()\n",
    "        if ar != 0 and al != 0:\n",
    "            x_temp[-al:-ar] = z\n",
    "            \n",
    "            #  padding\n",
    "            x_temp[:-al] = list(reversed(z_rev[:-al]))\n",
    "            x_temp[-ar:] = list(reversed(z_rev[-ar:]))\n",
    "        else:\n",
    "            x_temp = z\n",
    "\n",
    "\n",
    "        for i in range(N):\n",
    "            res[i] = np.sum( x_temp[i:i+ar-al+1] ** (Q+1) ) / np.sum( x_temp[i:i+ar-al+1] ** Q)\n",
    "\n",
    "        return res\n",
    "\n",
    "    metric_min = 10**5\n",
    "    Q = 0\n",
    "    # Проведем несколько итераций\n",
    "    for i in range(5):\n",
    "        z1 = z\n",
    "        if i >0:\n",
    "            z1 = result\n",
    "\n",
    "        # Выберем наилучший результат из всех имеющихся\n",
    "        for al in range(-5,1): # Левая граница свертки\n",
    "            for ar in range(0,6): # Правая граница свертки\n",
    "                result_temp = measure_filter(z1,al,ar,Q)\n",
    "                metric_temp = np.sum(np.abs(result_temp - x))\n",
    "                if metric_min > metric_temp:\n",
    "                    metric_min = metric_temp\n",
    "                    result = result_temp\n",
    "                    a_best = [al,ar]\n",
    "\n",
    "        print(a_best)\n",
    "        print(metric_min)\n",
    "    return result\n",
    "\n",
    "\n",
    "result = applicate_filter(z)\n",
    "plt.figure()\n",
    "plt.title('Разность восстановленного и исходного измерения')\n",
    "plt.plot([i for i in range(N)], result-x, \\\n",
    "                  **{'linewidth' : 2, 'color' : 'blue', 'label' : 'x'});\n",
    "plt.figure()\n",
    "plt.title('Восстановленное и исходное измерение')\n",
    "plt.plot([i for i in range(N)], result, \\\n",
    "                  **{'linewidth' : 2, 'color' : 'red', 'label' : 'x'});\n",
    "plt.plot([i for i in range(N)], x, \\\n",
    "                  **{'linewidth' : 2, 'color' : 'blue', 'label' : 'x'});\n",
    "print('Исходная sum of |z - x| = ',np.sum(np.abs(z-x)))\n",
    "print('sum of |result - x| = ',np.sum(np.abs(result-x)))"
   ]
  },
  {
   "cell_type": "markdown",
   "metadata": {},
   "source": [
    "Исходя из данной реализации при больших величинах дисперсии выигрыш получается в 1.5-2 раза. При небольших дисперсиях данный подход не улучшает оценку."
   ]
  },
  {
   "cell_type": "markdown",
   "metadata": {},
   "source": [
    "## Нейронная сеть для зашумленного измерения"
   ]
  },
  {
   "cell_type": "code",
   "execution_count": 131,
   "metadata": {
    "ExecuteTime": {
     "end_time": "2020-07-19T12:52:38.642060Z",
     "start_time": "2020-07-19T12:52:38.626452Z"
    }
   },
   "outputs": [],
   "source": [
    "import keras"
   ]
  },
  {
   "cell_type": "markdown",
   "metadata": {},
   "source": [
    "### Восстановление сигнала из зашумленного\n",
    "Попробуем обучить нейронную сеть находить оптимальные фильтры для зашумленного измерения"
   ]
  },
  {
   "cell_type": "code",
   "execution_count": 155,
   "metadata": {
    "ExecuteTime": {
     "end_time": "2020-07-19T12:58:17.278508Z",
     "start_time": "2020-07-19T12:58:14.481650Z"
    }
   },
   "outputs": [],
   "source": [
    "# Теплицева матрица\n",
    "B = get_B(N)\n",
    "# Размер батча с данными для одного значения sigma\n",
    "batch_size = 256\n",
    "\n",
    "# Инициализируем обучающую выборку\n",
    "y_train = np.array([])\n",
    "x_train = np.array([])\n",
    "\n",
    "for _ in range(100): # Число генераций батчей с данными\n",
    "    sigma = np.random.uniform(0.05,15,1)\n",
    "    \n",
    "    # Генерации измерений (обучающие выходы)\n",
    "    y_temp, _, x0 = Xgeneration(N, B, batch_size)\n",
    "    y_temp = y_temp.transpose()\n",
    "    \n",
    "    # Запись в массив обучающих таргетов\n",
    "    if y_train.size == 0:\n",
    "        y_train = y_temp\n",
    "    else:\n",
    "        y_train = np.vstack((y_train, y_temp))\n",
    "\n",
    "    # Массив обучающих входов (случайных сигнал х + шум)\n",
    "    x_temp = y_temp + np.random.normal(0, sigma,(batch_size,N))\n",
    "    \n",
    "    # Добавим значение sigma и мат ожидания к обучающим входам\n",
    "    x_temp = np.append(x_temp, np.zeros((batch_size,1))+sigma, axis=1)\n",
    "    x_temp = np.append(x_temp, x_temp[:,:-1].mean(axis=1).reshape(batch_size,1), axis=1)\n",
    "    \n",
    "    # Запись в массив обучающих входов\n",
    "    if x_train.size == 0:\n",
    "        x_train = x_temp\n",
    "    else:\n",
    "        x_train = np.vstack((x_train, x_temp))"
   ]
  },
  {
   "cell_type": "code",
   "execution_count": 156,
   "metadata": {
    "ExecuteTime": {
     "end_time": "2020-07-19T12:58:18.262895Z",
     "start_time": "2020-07-19T12:58:17.372258Z"
    }
   },
   "outputs": [
    {
     "data": {
      "image/png": "[encoded data removed]",
      "text/plain": [
       "<Figure size 432x288 with 1 Axes>"
      ]
     },
     "metadata": {
      "needs_background": "light"
     },
     "output_type": "display_data"
    },
    {
     "data": {
      "image/png": "[encoded data removed]",
      "text/plain": [
       "<Figure size 432x288 with 1 Axes>"
      ]
     },
     "metadata": {
      "needs_background": "light"
     },
     "output_type": "display_data"
    }
   ],
   "source": [
    "plt.title('Исходное измерение')\n",
    "plt.ylabel('y')\n",
    "plt.plot([i for i in range(N)], y_train[1,:], \\\n",
    "                  **{'linewidth' : 2, 'color' : 'blue', 'label' : 'x'});\n",
    "\n",
    "plt.figure()\n",
    "plt.title('Зашумленное исходное измерение')\n",
    "plt.ylabel('y')\n",
    "plt.plot([i for i in range(N)], x_train[1,:-2], \\\n",
    "                  **{'linewidth' : 2, 'color' : 'blue', 'label' : 'x'});"
   ]
  },
  {
   "cell_type": "code",
   "execution_count": 157,
   "metadata": {
    "ExecuteTime": {
     "end_time": "2020-07-19T12:58:18.528526Z",
     "start_time": "2020-07-19T12:58:18.387903Z"
    }
   },
   "outputs": [
    {
     "name": "stdout",
     "output_type": "stream",
     "text": [
      "Model: \"sequential_5\"\n",
      "_________________________________________________________________\n",
      "Layer (type)                 Output Shape              Param #   \n",
      "=================================================================\n",
      "dense_5 (Dense)              (None, 100)               10300     \n",
      "=================================================================\n",
      "Total params: 10,300\n",
      "Trainable params: 10,300\n",
      "Non-trainable params: 0\n",
      "_________________________________________________________________\n"
     ]
    }
   ],
   "source": [
    "from keras.preprocessing import sequence\n",
    "from keras import layers\n",
    "from keras.models import Sequential\n",
    "\n",
    "# Создадим простейшую модель нейронного обучения:\n",
    "# Мы предполагаем, что некоторой одномерной конечной сверткой можно привести\n",
    "# зашумленное измерение к исходному \n",
    "# (аналогичного вида свертка используется для получения \n",
    "# незашумленного измерения из исходного сигнала])\n",
    "model = Sequential()\n",
    "model.add(layers.Dense(y_train.shape[1], input_shape=(x_train.shape[1],)))\n",
    "model.compile(optimizer='rmsprop',\n",
    "              loss='mean_squared_error',\n",
    "              metrics=['mse'])\n",
    "model.summary()"
   ]
  },
  {
   "cell_type": "code",
   "execution_count": 158,
   "metadata": {
    "ExecuteTime": {
     "end_time": "2020-07-19T12:58:32.419390Z",
     "start_time": "2020-07-19T12:58:18.622275Z"
    }
   },
   "outputs": [
    {
     "name": "stdout",
     "output_type": "stream",
     "text": [
      "Train on 20480 samples, validate on 5120 samples\n",
      "Epoch 1/10\n",
      "20480/20480 [==============================] - 1s 65us/step - loss: 94.1932 - mse: 94.1932 - val_loss: 21.0915 - val_mse: 21.0915\n",
      "Epoch 2/10\n",
      "20480/20480 [==============================] - 1s 60us/step - loss: 14.6783 - mse: 14.6783 - val_loss: 15.0957 - val_mse: 15.0957\n",
      "Epoch 3/10\n",
      "20480/20480 [==============================] - 1s 63us/step - loss: 13.3871 - mse: 13.3871 - val_loss: 14.9262 - val_mse: 14.9262\n",
      "Epoch 4/10\n",
      "20480/20480 [==============================] - 1s 70us/step - loss: 13.3694 - mse: 13.3694 - val_loss: 14.8777 - val_mse: 14.8777\n",
      "Epoch 5/10\n",
      "20480/20480 [==============================] - 1s 61us/step - loss: 13.3767 - mse: 13.3767 - val_loss: 14.8891 - val_mse: 14.8891\n",
      "Epoch 6/10\n",
      "20480/20480 [==============================] - 1s 62us/step - loss: 13.3673 - mse: 13.3673 - val_loss: 14.8873 - val_mse: 14.8873\n",
      "Epoch 7/10\n",
      "20480/20480 [==============================] - 1s 66us/step - loss: 13.3640 - mse: 13.3640 - val_loss: 14.8305 - val_mse: 14.8305\n",
      "Epoch 8/10\n",
      "20480/20480 [==============================] - 1s 59us/step - loss: 13.3695 - mse: 13.3695 - val_loss: 14.8826 - val_mse: 14.8826\n",
      "Epoch 9/10\n",
      "20480/20480 [==============================] - 1s 66us/step - loss: 13.3699 - mse: 13.3699 - val_loss: 14.9857 - val_mse: 14.9857\n",
      "Epoch 10/10\n",
      "20480/20480 [==============================] - 1s 69us/step - loss: 13.3674 - mse: 13.3674 - val_loss: 14.9938 - val_mse: 14.9938\n"
     ]
    }
   ],
   "source": [
    "# Обучим модель на малом числе эпох (у нас довольно много обучающих данных)\n",
    "history = model.fit(x_train, y_train,\n",
    "                    epochs=10,\n",
    "                    batch_size=32,\n",
    "                    validation_split=0.2)\n"
   ]
  },
  {
   "cell_type": "code",
   "execution_count": 159,
   "metadata": {
    "ExecuteTime": {
     "end_time": "2020-07-19T12:58:33.669367Z",
     "start_time": "2020-07-19T12:58:32.544335Z"
    }
   },
   "outputs": [
    {
     "data": {
      "image/png": "[encoded data removed]",
      "text/plain": [
       "<Figure size 432x288 with 1 Axes>"
      ]
     },
     "metadata": {
      "needs_background": "light"
     },
     "output_type": "display_data"
    },
    {
     "data": {
      "image/png": "[encoded data removed]",
      "text/plain": [
       "<Figure size 432x288 with 1 Axes>"
      ]
     },
     "metadata": {
      "needs_background": "light"
     },
     "output_type": "display_data"
    }
   ],
   "source": [
    "# Посмотрим на процесс обучения (много обучающих данных, поэтому быстрое обучение)\n",
    "loss = history.history['loss']\n",
    "val_loss = history.history['val_loss']\n",
    "\n",
    "epochs = range(1, len(loss) + 1)\n",
    "\n",
    "plt.plot(epochs[1:], loss[1:], 'bo', label='Training loss')\n",
    "plt.plot(epochs[1:], val_loss[1:], 'b', label='Validation loss')\n",
    "plt.title('Training and validation loss')\n",
    "plt.xlabel('Epochs')\n",
    "plt.ylabel('Loss')\n",
    "plt.legend()\n",
    "\n",
    "plt.show()\n",
    "\n",
    "plt.figure()\n",
    "mse = history.history['mse']\n",
    "val_mse = history.history['val_mse']\n",
    "\n",
    "plt.plot(epochs[1:], mse[1:], 'bo', label='Training mse')\n",
    "plt.plot(epochs[1:], val_mse[1:], 'b', label='Validation mse')\n",
    "plt.title('Training and validation accuracy')\n",
    "plt.xlabel('Epochs')\n",
    "plt.ylabel('Loss')\n",
    "plt.legend()\n",
    "\n",
    "plt.show()"
   ]
  },
  {
   "cell_type": "code",
   "execution_count": 163,
   "metadata": {
    "ExecuteTime": {
     "end_time": "2020-07-19T12:59:12.651974Z",
     "start_time": "2020-07-19T12:59:12.620781Z"
    }
   },
   "outputs": [],
   "source": [
    "# Сгенерируем тестовый сигнад, чтобы посмотреть на вид оценки\n",
    "sigma = np.random.uniform(0.05,10,1)\n",
    "sigma = 1\n",
    "test_size = 1\n",
    "y_test, _, x0 = Xgeneration(N, B, 1) \n",
    "y_test = y_test.transpose()\n",
    "\n",
    "x_test = y_test + np.random.normal(0, sigma,(1,N))\n",
    "\n",
    "x_test = np.append(x_test, np.zeros((test_size,1))+sigma, axis=1)\n",
    "x_test = np.append(x_test, x_test[:,:-1].mean(axis=1).reshape(test_size,1), axis=1)"
   ]
  },
  {
   "cell_type": "code",
   "execution_count": 164,
   "metadata": {
    "ExecuteTime": {
     "end_time": "2020-07-19T12:59:15.063293Z",
     "start_time": "2020-07-19T12:59:13.198873Z"
    }
   },
   "outputs": [
    {
     "name": "stdout",
     "output_type": "stream",
     "text": [
      "sum of |result - x| =  131.85976662639806\n"
     ]
    },
    {
     "data": {
      "image/png": "[encoded data removed]",
      "text/plain": [
       "<Figure size 432x288 with 1 Axes>"
      ]
     },
     "metadata": {
      "needs_background": "light"
     },
     "output_type": "display_data"
    },
    {
     "data": {
      "image/png": "[encoded data removed]",
      "text/plain": [
       "<Figure size 432x288 with 1 Axes>"
      ]
     },
     "metadata": {
      "needs_background": "light"
     },
     "output_type": "display_data"
    },
    {
     "data": {
      "image/png": "[encoded data removed]",
      "text/plain": [
       "<Figure size 432x288 with 1 Axes>"
      ]
     },
     "metadata": {
      "needs_background": "light"
     },
     "output_type": "display_data"
    },
    {
     "data": {
      "image/png": "[encoded data removed]",
      "text/plain": [
       "<Figure size 432x288 with 1 Axes>"
      ]
     },
     "metadata": {
      "needs_background": "light"
     },
     "output_type": "display_data"
    }
   ],
   "source": [
    "from keras import backend as K\n",
    "\n",
    "inp = model.input                                           # input placeholder\n",
    "outputs = [layer.output for layer in model.layers]          # all layer outputs\n",
    "functor = K.function([inp, K.learning_phase()], outputs )   # evaluation function\n",
    "\n",
    "layer_outs = functor([x_test, y_test])\n",
    "\n",
    "plt.title('Исходное измерение')\n",
    "plt.plot([i for i in range(N)], y_test, \\\n",
    "                  **{'linewidth' : 2, 'color' : 'blue', 'label' : 'x'});\n",
    "plt.figure()\n",
    "plt.title('Зашумленное исходное измерение')\n",
    "plt.plot([i for i in range(N)], x_test[0,:-2], \\\n",
    "                  **{'linewidth' : 2, 'color' : 'blue', 'label' : 'x'});\n",
    "plt.figure()\n",
    "plt.title('Выход из нейронной сети')\n",
    "plt.plot([i for i in range(N)], layer_outs[0][0,:], \\\n",
    "                  **{'linewidth' : 2, 'color' : 'blue', 'label' : 'x'});\n",
    "plt.figure()\n",
    "plt.title('Разность исходного измерения и выхода сети')\n",
    "plt.plot([i for i in range(N)], y_test - layer_outs[0][0,:], \\\n",
    "                  **{'linewidth' : 2, 'color' : 'blue', 'label' : 'x'});\n",
    "print('sum of |result - x| = ',np.sum(np.abs( y_test - layer_outs[0][0,:])))"
   ]
  },
  {
   "cell_type": "code",
   "execution_count": null,
   "metadata": {},
   "outputs": [],
   "source": [
    "# Сохраним модель\n",
    "#model.save('OE46_with_sigma_mse_5.h5')"
   ]
  },
  {
   "cell_type": "markdown",
   "metadata": {},
   "source": [
    "### Здесь в дальнейшем можно бует сравнить модели"
   ]
  },
  {
   "cell_type": "code",
   "execution_count": 87,
   "metadata": {
    "ExecuteTime": {
     "end_time": "2020-07-19T12:18:58.784943Z",
     "start_time": "2020-07-19T12:18:58.769317Z"
    }
   },
   "outputs": [],
   "source": [
    "#model.load_weights('pre_trained_glove_model.h5')\n",
    "#model.evaluate(x_test, y_test)"
   ]
  },
  {
   "cell_type": "markdown",
   "metadata": {},
   "source": [
    "Так в рамках одной PSF матрица $R$ и $r$ одинаковые, то можно обучить нейроную сеть для каждого случая поотдельности"
   ]
  }
 ],
 "metadata": {
  "kernelspec": {
   "display_name": "Python 3",
   "language": "python",
   "name": "python3"
  },
  "language_info": {
   "codemirror_mode": {
    "name": "ipython",
    "version": 3
   },
   "file_extension": ".py",
   "mimetype": "text/x-python",
   "name": "python",
   "nbconvert_exporter": "python",
   "pygments_lexer": "ipython3",
   "version": "3.7.4"
  },
  "toc": {
   "base_numbering": 1,
   "nav_menu": {},
   "number_sections": true,
   "sideBar": true,
   "skip_h1_title": false,
   "title_cell": "Table of Contents",
   "title_sidebar": "Contents",
   "toc_cell": false,
   "toc_position": {
    "height": "584px",
    "left": "43px",
    "top": "281.133px",
    "width": "320px"
   },
   "toc_section_display": true,
   "toc_window_display": true
  },
  "varInspector": {
   "cols": {
    "lenName": 16,
    "lenType": 16,
    "lenVar": 40
   },
   "kernels_config": {
    "python": {
     "delete_cmd_postfix": "",
     "delete_cmd_prefix": "del ",
     "library": "var_list.py",
     "varRefreshCmd": "print(var_dic_list())"
    },
    "r": {
     "delete_cmd_postfix": ") ",
     "delete_cmd_prefix": "rm(",
     "library": "var_list.r",
     "varRefreshCmd": "cat(var_dic_list()) "
    }
   },
   "position": {
    "height": "295.85px",
    "left": "1186px",
    "right": "20px",
    "top": "123px",
    "width": "398px"
   },
   "types_to_exclude": [
    "module",
    "function",
    "builtin_function_or_method",
    "instance",
    "_Feature"
   ],
   "window_display": false
  }
 },
 "nbformat": 4,
 "nbformat_minor": 2
}
